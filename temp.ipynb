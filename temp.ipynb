{
 "cells": [
  {
   "cell_type": "code",
   "execution_count": 1,
   "metadata": {},
   "outputs": [],
   "source": [
    "import typing as ty\n",
    "import numpy as np\n",
    "import pandas as pd"
   ]
  },
  {
   "cell_type": "code",
   "execution_count": null,
   "metadata": {},
   "outputs": [],
   "source": [
    "\n",
    "class resMinMaxOD(ty.TypedDict):\n",
    "    min:float;\n",
    "    max:float\n",
    "\n",
    "def maxNMinForOutlierDeduction(feature:pd.Series,clipNReturn:bool = True) -> ty.Union[resMinMaxOD,pd.Series]:\n",
    "    q1,q3 = np.percentile(feature,[25,75])\n",
    "    iqr = q1 - q3\n",
    "    minThreshold = q1 - (1.5*iqr)\n",
    "    maxThreshold = q3 + (1.5*iqr)\n",
    "    if(clipNReturn == False):\n",
    "        return {\n",
    "            'max':maxThreshold,\n",
    "            'min':minThreshold\n",
    "        }"
   ]
  }
 ],
 "metadata": {
  "kernelspec": {
   "display_name": "Python 3",
   "language": "python",
   "name": "python3"
  },
  "language_info": {
   "codemirror_mode": {
    "name": "ipython",
    "version": 3
   },
   "file_extension": ".py",
   "mimetype": "text/x-python",
   "name": "python",
   "nbconvert_exporter": "python",
   "pygments_lexer": "ipython3",
   "version": "3.10.6"
  },
  "orig_nbformat": 4
 },
 "nbformat": 4,
 "nbformat_minor": 2
}
