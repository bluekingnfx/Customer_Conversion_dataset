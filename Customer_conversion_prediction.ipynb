{
  "cells": [
    {
      "cell_type": "markdown",
      "metadata": {
        "id": "V74AijlFQMN-"
      },
      "source": [
        "# Problem Statement\n",
        "\n",
        "#### You are working for a new-age insurance company and employ mutiple outreach plans to sell term insurance to your customers. Telephonic marketing campaigns still remain one of the most effective way to reach out to people however they incur a lot of cost. Hence, it is important to identify the customers that are most likely to convert beforehand so that they can be specifically targeted via call. We are given the historical marketing data of the insurance company and are required to build a ML model that will predict if a client will subscribe to the insurance. \n",
        "\n",
        "### Features: \n",
        "age (numeric)\n",
        "\n",
        "job : type of job\n",
        "\n",
        "marital : marital status\n",
        "\n",
        "educational_qual : education status\n",
        "\n",
        "call_type : contact communication type\n",
        "\n",
        "day: last contact day of the month (numeric)\n",
        "\n",
        "mon: last contact month of year\n",
        "\n",
        "dur: last contact duration, in seconds (numeric)\n",
        "\n",
        "num_calls: number of contacts performed during this campaign and for this client \n",
        "\n",
        "prev_outcome: outcome of the previous marketing campaign (categorical: \"unknown\",\"other\",\"failure\",\"success\")\n",
        "\n",
        "Output variable (desired target):\n",
        "y - has the client subscribed to the insurance?\n",
        "\n",
        "### Minimum Requirements\n",
        "\n",
        "It is not sufficient to just fit a model - the model must be analysed to find the important factors that contribute towards the conversion rate. AUROC must be used as a metric to evaluate the performance of the models. \n"
      ]
    },
    {
      "cell_type": "markdown",
      "metadata": {
        "id": "f66tOSu1ITeL"
      },
      "source": [
        "# Import Statements"
      ]
    },
    {
      "cell_type": "code",
      "execution_count": 171,
      "metadata": {
        "id": "A3dJEhjzIauW"
      },
      "outputs": [],
      "source": [
        "import numpy as np\n",
        "import pandas as pd\n",
        "import matplotlib.pyplot as plt\n",
        "import seaborn as sns\n",
        "import typing as ty\n",
        "\n",
        "from sklearn.impute import KNNImputer\n",
        "from sklearn.tree import DecisionTreeClassifier\n",
        "from sklearn.model_selection import train_test_split\n",
        "from sklearn.metrics import roc_auc_score"
      ]
    },
    {
      "cell_type": "markdown",
      "metadata": {
        "id": "qsWWATA4IkLj"
      },
      "source": [
        "## Loading the dataset"
      ]
    },
    {
      "cell_type": "code",
      "execution_count": 172,
      "metadata": {
        "id": "TvRHA733IgEa"
      },
      "outputs": [],
      "source": [
        "df = pd.read_csv(\"train.csv\")\n"
      ]
    },
    {
      "cell_type": "code",
      "execution_count": 173,
      "metadata": {
        "colab": {
          "base_uri": "https://localhost:8080/"
        },
        "id": "MN2fdO3y4R-r",
        "outputId": "8fd1f71a-1c11-4bf7-8f70-d7f0739e87bb"
      },
      "outputs": [
        {
          "data": {
            "text/plain": [
              "age               False\n",
              "job               False\n",
              "marital           False\n",
              "education_qual    False\n",
              "call_type         False\n",
              "day               False\n",
              "mon               False\n",
              "dur               False\n",
              "num_calls         False\n",
              "prev_outcome      False\n",
              "y                 False\n",
              "dtype: bool"
            ]
          },
          "execution_count": 173,
          "metadata": {},
          "output_type": "execute_result"
        }
      ],
      "source": [
        "#Cheaking if there exists np.nan\n",
        "df.isna().any()"
      ]
    },
    {
      "cell_type": "markdown",
      "metadata": {
        "id": "4dq8f0hw8fft"
      },
      "source": [
        "Missing values are handled in non-standardized way."
      ]
    },
    {
      "cell_type": "markdown",
      "metadata": {
        "id": "ZitLV9cEzwsy"
      },
      "source": [
        "### 1. Understanding the basic nature of the data"
      ]
    },
    {
      "cell_type": "code",
      "execution_count": 174,
      "metadata": {
        "colab": {
          "base_uri": "https://localhost:8080/",
          "height": 0
        },
        "id": "gCwKxFCuJZ5p",
        "outputId": "e7ba8062-fb4a-419e-e456-4f10773e11fd"
      },
      "outputs": [
        {
          "data": {
            "text/html": [
              "<div>\n",
              "<style scoped>\n",
              "    .dataframe tbody tr th:only-of-type {\n",
              "        vertical-align: middle;\n",
              "    }\n",
              "\n",
              "    .dataframe tbody tr th {\n",
              "        vertical-align: top;\n",
              "    }\n",
              "\n",
              "    .dataframe thead th {\n",
              "        text-align: right;\n",
              "    }\n",
              "</style>\n",
              "<table border=\"1\" class=\"dataframe\">\n",
              "  <thead>\n",
              "    <tr style=\"text-align: right;\">\n",
              "      <th></th>\n",
              "      <th>age</th>\n",
              "      <th>job</th>\n",
              "      <th>marital</th>\n",
              "      <th>education_qual</th>\n",
              "      <th>call_type</th>\n",
              "      <th>day</th>\n",
              "      <th>mon</th>\n",
              "      <th>dur</th>\n",
              "      <th>num_calls</th>\n",
              "      <th>prev_outcome</th>\n",
              "      <th>y</th>\n",
              "    </tr>\n",
              "  </thead>\n",
              "  <tbody>\n",
              "    <tr>\n",
              "      <th>0</th>\n",
              "      <td>58</td>\n",
              "      <td>management</td>\n",
              "      <td>married</td>\n",
              "      <td>tertiary</td>\n",
              "      <td>unknown</td>\n",
              "      <td>5</td>\n",
              "      <td>may</td>\n",
              "      <td>261</td>\n",
              "      <td>1</td>\n",
              "      <td>unknown</td>\n",
              "      <td>no</td>\n",
              "    </tr>\n",
              "    <tr>\n",
              "      <th>1</th>\n",
              "      <td>44</td>\n",
              "      <td>technician</td>\n",
              "      <td>single</td>\n",
              "      <td>secondary</td>\n",
              "      <td>unknown</td>\n",
              "      <td>5</td>\n",
              "      <td>may</td>\n",
              "      <td>151</td>\n",
              "      <td>1</td>\n",
              "      <td>unknown</td>\n",
              "      <td>no</td>\n",
              "    </tr>\n",
              "    <tr>\n",
              "      <th>2</th>\n",
              "      <td>33</td>\n",
              "      <td>entrepreneur</td>\n",
              "      <td>married</td>\n",
              "      <td>secondary</td>\n",
              "      <td>unknown</td>\n",
              "      <td>5</td>\n",
              "      <td>may</td>\n",
              "      <td>76</td>\n",
              "      <td>1</td>\n",
              "      <td>unknown</td>\n",
              "      <td>no</td>\n",
              "    </tr>\n",
              "    <tr>\n",
              "      <th>3</th>\n",
              "      <td>47</td>\n",
              "      <td>blue-collar</td>\n",
              "      <td>married</td>\n",
              "      <td>unknown</td>\n",
              "      <td>unknown</td>\n",
              "      <td>5</td>\n",
              "      <td>may</td>\n",
              "      <td>92</td>\n",
              "      <td>1</td>\n",
              "      <td>unknown</td>\n",
              "      <td>no</td>\n",
              "    </tr>\n",
              "    <tr>\n",
              "      <th>4</th>\n",
              "      <td>33</td>\n",
              "      <td>unknown</td>\n",
              "      <td>single</td>\n",
              "      <td>unknown</td>\n",
              "      <td>unknown</td>\n",
              "      <td>5</td>\n",
              "      <td>may</td>\n",
              "      <td>198</td>\n",
              "      <td>1</td>\n",
              "      <td>unknown</td>\n",
              "      <td>no</td>\n",
              "    </tr>\n",
              "  </tbody>\n",
              "</table>\n",
              "</div>"
            ],
            "text/plain": [
              "   age           job  marital education_qual call_type  day  mon  dur  \\\n",
              "0   58    management  married       tertiary   unknown    5  may  261   \n",
              "1   44    technician   single      secondary   unknown    5  may  151   \n",
              "2   33  entrepreneur  married      secondary   unknown    5  may   76   \n",
              "3   47   blue-collar  married        unknown   unknown    5  may   92   \n",
              "4   33       unknown   single        unknown   unknown    5  may  198   \n",
              "\n",
              "   num_calls prev_outcome   y  \n",
              "0          1      unknown  no  \n",
              "1          1      unknown  no  \n",
              "2          1      unknown  no  \n",
              "3          1      unknown  no  \n",
              "4          1      unknown  no  "
            ]
          },
          "execution_count": 174,
          "metadata": {},
          "output_type": "execute_result"
        }
      ],
      "source": [
        "df.head()"
      ]
    },
    {
      "cell_type": "code",
      "execution_count": 175,
      "metadata": {
        "colab": {
          "base_uri": "https://localhost:8080/"
        },
        "id": "HXJG7e7yJV5k",
        "outputId": "d155b2eb-ea9f-497a-a0df-f4d57dca7d74"
      },
      "outputs": [
        {
          "data": {
            "text/plain": [
              "(45211, 11)"
            ]
          },
          "execution_count": 175,
          "metadata": {},
          "output_type": "execute_result"
        }
      ],
      "source": [
        "df.shape"
      ]
    },
    {
      "cell_type": "markdown",
      "metadata": {
        "id": "rCLoVJTbxxro"
      },
      "source": [
        "#### Basic Analysis of continuous features\n"
      ]
    },
    {
      "cell_type": "code",
      "execution_count": 176,
      "metadata": {
        "colab": {
          "base_uri": "https://localhost:8080/",
          "height": 0
        },
        "id": "lXHWopm8w2xv",
        "outputId": "67725ee2-3a8a-433c-8905-caea20ea253d"
      },
      "outputs": [
        {
          "data": {
            "text/html": [
              "<div>\n",
              "<style scoped>\n",
              "    .dataframe tbody tr th:only-of-type {\n",
              "        vertical-align: middle;\n",
              "    }\n",
              "\n",
              "    .dataframe tbody tr th {\n",
              "        vertical-align: top;\n",
              "    }\n",
              "\n",
              "    .dataframe thead th {\n",
              "        text-align: right;\n",
              "    }\n",
              "</style>\n",
              "<table border=\"1\" class=\"dataframe\">\n",
              "  <thead>\n",
              "    <tr style=\"text-align: right;\">\n",
              "      <th></th>\n",
              "      <th>age</th>\n",
              "      <th>day</th>\n",
              "      <th>dur</th>\n",
              "      <th>num_calls</th>\n",
              "    </tr>\n",
              "  </thead>\n",
              "  <tbody>\n",
              "    <tr>\n",
              "      <th>count</th>\n",
              "      <td>45211.000000</td>\n",
              "      <td>45211.000000</td>\n",
              "      <td>45211.000000</td>\n",
              "      <td>45211.000000</td>\n",
              "    </tr>\n",
              "    <tr>\n",
              "      <th>mean</th>\n",
              "      <td>40.936210</td>\n",
              "      <td>15.806419</td>\n",
              "      <td>258.163080</td>\n",
              "      <td>2.763841</td>\n",
              "    </tr>\n",
              "    <tr>\n",
              "      <th>std</th>\n",
              "      <td>10.618762</td>\n",
              "      <td>8.322476</td>\n",
              "      <td>257.527812</td>\n",
              "      <td>3.098021</td>\n",
              "    </tr>\n",
              "    <tr>\n",
              "      <th>min</th>\n",
              "      <td>18.000000</td>\n",
              "      <td>1.000000</td>\n",
              "      <td>0.000000</td>\n",
              "      <td>1.000000</td>\n",
              "    </tr>\n",
              "    <tr>\n",
              "      <th>25%</th>\n",
              "      <td>33.000000</td>\n",
              "      <td>8.000000</td>\n",
              "      <td>103.000000</td>\n",
              "      <td>1.000000</td>\n",
              "    </tr>\n",
              "    <tr>\n",
              "      <th>50%</th>\n",
              "      <td>39.000000</td>\n",
              "      <td>16.000000</td>\n",
              "      <td>180.000000</td>\n",
              "      <td>2.000000</td>\n",
              "    </tr>\n",
              "    <tr>\n",
              "      <th>75%</th>\n",
              "      <td>48.000000</td>\n",
              "      <td>21.000000</td>\n",
              "      <td>319.000000</td>\n",
              "      <td>3.000000</td>\n",
              "    </tr>\n",
              "    <tr>\n",
              "      <th>max</th>\n",
              "      <td>95.000000</td>\n",
              "      <td>31.000000</td>\n",
              "      <td>4918.000000</td>\n",
              "      <td>63.000000</td>\n",
              "    </tr>\n",
              "  </tbody>\n",
              "</table>\n",
              "</div>"
            ],
            "text/plain": [
              "                age           day           dur     num_calls\n",
              "count  45211.000000  45211.000000  45211.000000  45211.000000\n",
              "mean      40.936210     15.806419    258.163080      2.763841\n",
              "std       10.618762      8.322476    257.527812      3.098021\n",
              "min       18.000000      1.000000      0.000000      1.000000\n",
              "25%       33.000000      8.000000    103.000000      1.000000\n",
              "50%       39.000000     16.000000    180.000000      2.000000\n",
              "75%       48.000000     21.000000    319.000000      3.000000\n",
              "max       95.000000     31.000000   4918.000000     63.000000"
            ]
          },
          "execution_count": 176,
          "metadata": {},
          "output_type": "execute_result"
        }
      ],
      "source": [
        "df.describe()"
      ]
    },
    {
      "cell_type": "markdown",
      "metadata": {
        "id": "6jpVuQ5_3yrD"
      },
      "source": [
        "The age group that mostly contacted are range of 30 - 50 adults."
      ]
    },
    {
      "cell_type": "markdown",
      "metadata": {
        "id": "XO62xt5-80mx"
      },
      "source": [
        "Duration is right skewed, talking to customers is essential feature for conversation dataset. By general knowledge, people who interested speak more are likely to convert. If the feature is skewed there is a possibility of **Imbalanced** dataset."
      ]
    },
    {
      "cell_type": "markdown",
      "metadata": {
        "id": "0agt5WMc9xcK"
      },
      "source": [
        "Most people contacted in range of 0 - 6 times"
      ]
    },
    {
      "cell_type": "markdown",
      "metadata": {
        "id": "lUn3RRZkyXGy"
      },
      "source": [
        "#### Basic Analysis of categorical features"
      ]
    },
    {
      "cell_type": "code",
      "execution_count": 177,
      "metadata": {
        "colab": {
          "base_uri": "https://localhost:8080/"
        },
        "id": "jVlZP_OK1t4q",
        "outputId": "9841a47f-e6a7-4f00-c73f-98a729d3d0cf"
      },
      "outputs": [
        {
          "name": "stdout",
          "output_type": "stream",
          "text": [
            "Contact has been made every day of the month, mean makes sense.\n"
          ]
        }
      ],
      "source": [
        "if sorted(df[\"day\"].unique()) == [i for i in range(1,32)]:\n",
        "  print(\"Contact has been made every day of the month, mean makes sense.\")\n",
        "else:\n",
        "  print(\"No\")"
      ]
    },
    {
      "cell_type": "markdown",
      "metadata": {
        "id": "acrHMKjNxkNn"
      },
      "source": [
        "The most customers has a last point of contact in range of 7th - 23rd day of the month.\n"
      ]
    },
    {
      "cell_type": "code",
      "execution_count": 178,
      "metadata": {
        "colab": {
          "base_uri": "https://localhost:8080/"
        },
        "id": "wBfcf291JuK-",
        "outputId": "f261f5bf-ff37-4e2e-9fc6-3f612c77bf5a"
      },
      "outputs": [
        {
          "data": {
            "text/plain": [
              "blue-collar      9732\n",
              "management       9458\n",
              "technician       7597\n",
              "admin.           5171\n",
              "services         4154\n",
              "retired          2264\n",
              "self-employed    1579\n",
              "entrepreneur     1487\n",
              "unemployed       1303\n",
              "housemaid        1240\n",
              "student           938\n",
              "unknown           288\n",
              "Name: job, dtype: int64"
            ]
          },
          "execution_count": 178,
          "metadata": {},
          "output_type": "execute_result"
        }
      ],
      "source": [
        "df[\"job\"].value_counts()"
      ]
    },
    {
      "cell_type": "markdown",
      "metadata": {
        "id": "9zo4EyKfTtNn"
      },
      "source": [
        "\n",
        "\n",
        "*   Each class in job categorical variable indeed divided into various subclasses\n",
        "*  Expect blue-collar there is general decreasing trend of prestige level of jobs, which implies generally there is decreasing trend of the amount of money each professional earns.\n",
        "\n"
      ]
    },
    {
      "cell_type": "code",
      "execution_count": 179,
      "metadata": {
        "colab": {
          "base_uri": "https://localhost:8080/"
        },
        "id": "D3gSA1AmUgHF",
        "outputId": "dd461e18-d7a0-4356-a1a8-0fece00c13de"
      },
      "outputs": [
        {
          "data": {
            "text/plain": [
              "married     27214\n",
              "single      12790\n",
              "divorced     5207\n",
              "Name: marital, dtype: int64"
            ]
          },
          "execution_count": 179,
          "metadata": {},
          "output_type": "execute_result"
        }
      ],
      "source": [
        "df[\"marital\"].value_counts()"
      ]
    },
    {
      "cell_type": "markdown",
      "metadata": {
        "id": "iYQx1StFVVWe"
      },
      "source": [
        "The most people who is the age group of 30 - 50, generally the most people are married at this age.\n",
        "\n",
        "The majority of the customers in the dataset are married, followed by single and divorced individuals. This suggests that married individuals may be more likely to respond to marketing campaigns than single or divorced individuals. (this may be cause less population of singles and divorced.)"
      ]
    },
    {
      "cell_type": "code",
      "execution_count": 180,
      "metadata": {
        "colab": {
          "base_uri": "https://localhost:8080/"
        },
        "id": "Ut2zHIqpHVAK",
        "outputId": "a1648408-f42d-4850-b8fc-c267cb34d65e"
      },
      "outputs": [
        {
          "data": {
            "text/plain": [
              "secondary    23202\n",
              "tertiary     13301\n",
              "primary       6851\n",
              "unknown       1857\n",
              "Name: education_qual, dtype: int64"
            ]
          },
          "execution_count": 180,
          "metadata": {},
          "output_type": "execute_result"
        }
      ],
      "source": [
        "df[\"education_qual\"].value_counts()"
      ]
    },
    {
      "cell_type": "markdown",
      "metadata": {
        "id": "HHRWptVLu6uE"
      },
      "source": [
        "Blue collar jobs, unemployed, students, housemaid tend to have lower level of education so maybe it captured in education qual.\n",
        "\n",
        "Management folks and other white collar jobs tend to do higher education, may be tertiary count here describes that."
      ]
    },
    {
      "cell_type": "code",
      "execution_count": 181,
      "metadata": {
        "colab": {
          "base_uri": "https://localhost:8080/"
        },
        "id": "dS8ZRB4DueUL",
        "outputId": "8bff885c-16f8-424d-e1d3-a32bceaf655d"
      },
      "outputs": [
        {
          "data": {
            "text/plain": [
              "cellular     29285\n",
              "unknown      13020\n",
              "telephone     2906\n",
              "Name: call_type, dtype: int64"
            ]
          },
          "execution_count": 181,
          "metadata": {},
          "output_type": "execute_result"
        }
      ],
      "source": [
        "df['call_type'].value_counts()"
      ]
    },
    {
      "cell_type": "markdown",
      "metadata": {
        "id": "u73y8TfgHWeX"
      },
      "source": [
        "Majority of the customers were contacted via cellular phones, while a significant proportion of the customers had an unknown call type."
      ]
    },
    {
      "cell_type": "code",
      "execution_count": 182,
      "metadata": {
        "colab": {
          "base_uri": "https://localhost:8080/"
        },
        "id": "yiykwxfpwXm7",
        "outputId": "07d8f830-bd96-4157-b8a1-b340ea0d1ef2"
      },
      "outputs": [
        {
          "data": {
            "text/plain": [
              "unknown    36959\n",
              "failure     4901\n",
              "other       1840\n",
              "success     1511\n",
              "Name: prev_outcome, dtype: int64"
            ]
          },
          "execution_count": 182,
          "metadata": {},
          "output_type": "execute_result"
        }
      ],
      "source": [
        "df[\"prev_outcome\"].value_counts()"
      ]
    },
    {
      "cell_type": "markdown",
      "metadata": {
        "id": "YjVWKhutxAER"
      },
      "source": [
        "Though the previously converted people may have high conversation rates **provided their insurance plan is already over** - must be the case. Here there is no way make any plausible conclusion because there is more than 60% of data is missing."
      ]
    },
    {
      "cell_type": "code",
      "execution_count": 183,
      "metadata": {
        "colab": {
          "base_uri": "https://localhost:8080/"
        },
        "id": "3NfO5iL-0m5b",
        "outputId": "250b120f-628d-4107-a33e-3be77325cbce"
      },
      "outputs": [
        {
          "data": {
            "text/plain": [
              "may    13766\n",
              "jul     6895\n",
              "aug     6247\n",
              "jun     5341\n",
              "nov     3970\n",
              "apr     2932\n",
              "feb     2649\n",
              "jan     1403\n",
              "oct      738\n",
              "sep      579\n",
              "mar      477\n",
              "dec      214\n",
              "Name: mon, dtype: int64"
            ]
          },
          "execution_count": 183,
          "metadata": {},
          "output_type": "execute_result"
        }
      ],
      "source": [
        "df[\"mon\"].value_counts()"
      ]
    },
    {
      "cell_type": "markdown",
      "metadata": {
        "id": "mO2oCM231etD"
      },
      "source": [
        "Most where contacted in middle months of year.\n",
        "\n",
        "This could suggest that the marketing campaign may be launched in May and continued with great zeal into following months."
      ]
    },
    {
      "cell_type": "code",
      "execution_count": 184,
      "metadata": {
        "colab": {
          "base_uri": "https://localhost:8080/",
          "height": 0
        },
        "id": "iLFSTQdTw0YW",
        "outputId": "9a8c6c6b-a687-4d8b-a6af-9c5135e57b45"
      },
      "outputs": [
        {
          "data": {
            "text/html": [
              "<div>\n",
              "<style scoped>\n",
              "    .dataframe tbody tr th:only-of-type {\n",
              "        vertical-align: middle;\n",
              "    }\n",
              "\n",
              "    .dataframe tbody tr th {\n",
              "        vertical-align: top;\n",
              "    }\n",
              "\n",
              "    .dataframe thead th {\n",
              "        text-align: right;\n",
              "    }\n",
              "</style>\n",
              "<table border=\"1\" class=\"dataframe\">\n",
              "  <thead>\n",
              "    <tr style=\"text-align: right;\">\n",
              "      <th></th>\n",
              "      <th>age</th>\n",
              "      <th>job</th>\n",
              "      <th>marital</th>\n",
              "      <th>education_qual</th>\n",
              "      <th>call_type</th>\n",
              "      <th>day</th>\n",
              "      <th>mon</th>\n",
              "      <th>dur</th>\n",
              "      <th>num_calls</th>\n",
              "      <th>prev_outcome</th>\n",
              "      <th>y</th>\n",
              "    </tr>\n",
              "  </thead>\n",
              "  <tbody>\n",
              "    <tr>\n",
              "      <th>45206</th>\n",
              "      <td>51</td>\n",
              "      <td>technician</td>\n",
              "      <td>married</td>\n",
              "      <td>tertiary</td>\n",
              "      <td>cellular</td>\n",
              "      <td>17</td>\n",
              "      <td>nov</td>\n",
              "      <td>977</td>\n",
              "      <td>3</td>\n",
              "      <td>unknown</td>\n",
              "      <td>yes</td>\n",
              "    </tr>\n",
              "    <tr>\n",
              "      <th>45207</th>\n",
              "      <td>71</td>\n",
              "      <td>retired</td>\n",
              "      <td>divorced</td>\n",
              "      <td>primary</td>\n",
              "      <td>cellular</td>\n",
              "      <td>17</td>\n",
              "      <td>nov</td>\n",
              "      <td>456</td>\n",
              "      <td>2</td>\n",
              "      <td>unknown</td>\n",
              "      <td>yes</td>\n",
              "    </tr>\n",
              "    <tr>\n",
              "      <th>45208</th>\n",
              "      <td>72</td>\n",
              "      <td>retired</td>\n",
              "      <td>married</td>\n",
              "      <td>secondary</td>\n",
              "      <td>cellular</td>\n",
              "      <td>17</td>\n",
              "      <td>nov</td>\n",
              "      <td>1127</td>\n",
              "      <td>5</td>\n",
              "      <td>success</td>\n",
              "      <td>yes</td>\n",
              "    </tr>\n",
              "    <tr>\n",
              "      <th>45209</th>\n",
              "      <td>57</td>\n",
              "      <td>blue-collar</td>\n",
              "      <td>married</td>\n",
              "      <td>secondary</td>\n",
              "      <td>telephone</td>\n",
              "      <td>17</td>\n",
              "      <td>nov</td>\n",
              "      <td>508</td>\n",
              "      <td>4</td>\n",
              "      <td>unknown</td>\n",
              "      <td>no</td>\n",
              "    </tr>\n",
              "    <tr>\n",
              "      <th>45210</th>\n",
              "      <td>37</td>\n",
              "      <td>entrepreneur</td>\n",
              "      <td>married</td>\n",
              "      <td>secondary</td>\n",
              "      <td>cellular</td>\n",
              "      <td>17</td>\n",
              "      <td>nov</td>\n",
              "      <td>361</td>\n",
              "      <td>2</td>\n",
              "      <td>other</td>\n",
              "      <td>no</td>\n",
              "    </tr>\n",
              "  </tbody>\n",
              "</table>\n",
              "</div>"
            ],
            "text/plain": [
              "       age           job   marital education_qual  call_type  day  mon   dur  \\\n",
              "45206   51    technician   married       tertiary   cellular   17  nov   977   \n",
              "45207   71       retired  divorced        primary   cellular   17  nov   456   \n",
              "45208   72       retired   married      secondary   cellular   17  nov  1127   \n",
              "45209   57   blue-collar   married      secondary  telephone   17  nov   508   \n",
              "45210   37  entrepreneur   married      secondary   cellular   17  nov   361   \n",
              "\n",
              "       num_calls prev_outcome    y  \n",
              "45206          3      unknown  yes  \n",
              "45207          2      unknown  yes  \n",
              "45208          5      success  yes  \n",
              "45209          4      unknown   no  \n",
              "45210          2        other   no  "
            ]
          },
          "execution_count": 184,
          "metadata": {},
          "output_type": "execute_result"
        }
      ],
      "source": [
        "df.tail()"
      ]
    },
    {
      "cell_type": "markdown",
      "metadata": {
        "id": "Abmo6LtmzJoZ"
      },
      "source": [
        "#### Basic analysis of target variable"
      ]
    },
    {
      "cell_type": "markdown",
      "metadata": {
        "id": "afjVS4jUyy3H"
      },
      "source": [
        "Target variable y is a binary categorical variable. Predicting the customer conversion based on given features."
      ]
    },
    {
      "cell_type": "markdown",
      "metadata": {
        "id": "EpP5GCxPzxk8"
      },
      "source": [
        "Checking the dataset if it is a imbalanced dataset\n"
      ]
    },
    {
      "cell_type": "code",
      "execution_count": 185,
      "metadata": {
        "colab": {
          "base_uri": "https://localhost:8080/",
          "height": 0
        },
        "id": "8742R-Kmz9HL",
        "outputId": "a07b768e-e3e6-4fce-8514-346b19b72bb3"
      },
      "outputs": [
        {
          "data": {
            "text/html": [
              "<div>\n",
              "<style scoped>\n",
              "    .dataframe tbody tr th:only-of-type {\n",
              "        vertical-align: middle;\n",
              "    }\n",
              "\n",
              "    .dataframe tbody tr th {\n",
              "        vertical-align: top;\n",
              "    }\n",
              "\n",
              "    .dataframe thead th {\n",
              "        text-align: right;\n",
              "    }\n",
              "</style>\n",
              "<table border=\"1\" class=\"dataframe\">\n",
              "  <thead>\n",
              "    <tr style=\"text-align: right;\">\n",
              "      <th></th>\n",
              "      <th>age</th>\n",
              "      <th>job</th>\n",
              "      <th>marital</th>\n",
              "      <th>education_qual</th>\n",
              "      <th>call_type</th>\n",
              "      <th>day</th>\n",
              "      <th>mon</th>\n",
              "      <th>dur</th>\n",
              "      <th>num_calls</th>\n",
              "      <th>prev_outcome</th>\n",
              "      <th>cus_converted</th>\n",
              "    </tr>\n",
              "  </thead>\n",
              "  <tbody>\n",
              "    <tr>\n",
              "      <th>0</th>\n",
              "      <td>58</td>\n",
              "      <td>management</td>\n",
              "      <td>married</td>\n",
              "      <td>tertiary</td>\n",
              "      <td>unknown</td>\n",
              "      <td>5</td>\n",
              "      <td>may</td>\n",
              "      <td>261</td>\n",
              "      <td>1</td>\n",
              "      <td>unknown</td>\n",
              "      <td>no</td>\n",
              "    </tr>\n",
              "  </tbody>\n",
              "</table>\n",
              "</div>"
            ],
            "text/plain": [
              "   age         job  marital education_qual call_type  day  mon  dur  \\\n",
              "0   58  management  married       tertiary   unknown    5  may  261   \n",
              "\n",
              "   num_calls prev_outcome cus_converted  \n",
              "0          1      unknown            no  "
            ]
          },
          "execution_count": 185,
          "metadata": {},
          "output_type": "execute_result"
        }
      ],
      "source": [
        "#Renaming y to appropriate feature name\n",
        "\n",
        "df.rename(columns={\"y\":\"cus_converted\"},inplace=True)\n",
        "df.head(1)"
      ]
    },
    {
      "cell_type": "code",
      "execution_count": 186,
      "metadata": {
        "colab": {
          "base_uri": "https://localhost:8080/"
        },
        "id": "Ldf36T9L3K56",
        "outputId": "f67884ad-d49c-424b-87d4-0285ba7ea7bf"
      },
      "outputs": [
        {
          "data": {
            "text/plain": [
              "array(['no', 'yes'], dtype=object)"
            ]
          },
          "execution_count": 186,
          "metadata": {},
          "output_type": "execute_result"
        }
      ],
      "source": [
        "# Checking missing values in target variable\n",
        "df[\"cus_converted\"].unique()"
      ]
    },
    {
      "cell_type": "code",
      "execution_count": 187,
      "metadata": {
        "colab": {
          "base_uri": "https://localhost:8080/"
        },
        "id": "NLt-BHKE9Ih8",
        "outputId": "ebe1839d-879e-4035-b90d-0feba71759e6"
      },
      "outputs": [
        {
          "data": {
            "text/plain": [
              "no     88.30152\n",
              "yes    11.69848\n",
              "Name: cus_converted, dtype: float64"
            ]
          },
          "execution_count": 187,
          "metadata": {},
          "output_type": "execute_result"
        }
      ],
      "source": [
        "#Checking if it is imbalanced dataset\n",
        "(df[\"cus_converted\"].value_counts()/df.shape[0])*100\n"
      ]
    },
    {
      "cell_type": "markdown",
      "metadata": {
        "id": "lg64gm-k9-6H"
      },
      "source": [
        "Dataset is imbalanced dataset. Up-scaling must be done to balance the data before modeling."
      ]
    },
    {
      "cell_type": "markdown",
      "metadata": {
        "id": "IEtLjmGF-j2i"
      },
      "source": [
        "##### Encoding the target variable."
      ]
    },
    {
      "cell_type": "code",
      "execution_count": 188,
      "metadata": {
        "id": "NpQG6VbOAR6z"
      },
      "outputs": [],
      "source": [
        "cus_converted_Encoded = df['cus_converted'].map({\"yes\":1,\"no\":0})\n",
        "df[\"cus_converted\"] = cus_converted_Encoded"
      ]
    },
    {
      "cell_type": "code",
      "execution_count": 189,
      "metadata": {
        "colab": {
          "base_uri": "https://localhost:8080/"
        },
        "id": "FIY7ctz0BNfD",
        "outputId": "820102b6-7ebd-4fc9-f15a-cc55e4349aac"
      },
      "outputs": [
        {
          "data": {
            "text/plain": [
              "array([0, 1], dtype=int64)"
            ]
          },
          "execution_count": 189,
          "metadata": {},
          "output_type": "execute_result"
        }
      ],
      "source": [
        "df[\"cus_converted\"].unique()"
      ]
    },
    {
      "cell_type": "markdown",
      "metadata": {
        "id": "ESBJH24BGSKo"
      },
      "source": [
        "### 2. Data preprocessing\n"
      ]
    },
    {
      "cell_type": "markdown",
      "metadata": {
        "id": "wWJQmVdHqrdC"
      },
      "source": [
        "##### Helper functions\n"
      ]
    },
    {
      "cell_type": "code",
      "execution_count": 190,
      "metadata": {
        "id": "7MwvSX2gqrdC"
      },
      "outputs": [],
      "source": [
        "class resMinMaxOD(ty.TypedDict):\n",
        "    min:float;\n",
        "    max:float\n",
        "\n",
        "def maxNMinForOutlierDeduction(feature:pd.Series,clipNReturn:bool = True,maintainInt:bool = False) -> ty.Union[resMinMaxOD,pd.Series]:\n",
        "    q1,q3 = np.percentile(feature,[25,75])\n",
        "    iqr = q3 - q1\n",
        "    minThreshold = q1 - (1.5*iqr)\n",
        "    maxThreshold = q3 + (1.5*iqr)\n",
        "    if(maintainInt == True):\n",
        "        minThreshold = int(round(minThreshold))\n",
        "        maxThreshold = int(round(maxThreshold))\n",
        "    if(clipNReturn == False):\n",
        "        return {\n",
        "            'max':maxThreshold,\n",
        "            'min':minThreshold\n",
        "        }\n",
        "    else:\n",
        "        clippedSeries = feature.clip(lower=minThreshold,upper=maxThreshold)\n",
        "        return clippedSeries"
      ]
    },
    {
      "cell_type": "code",
      "execution_count": 191,
      "metadata": {
        "id": "AfybdOtAqrdD"
      },
      "outputs": [],
      "source": [
        "def showBoxPlot(feature:pd.Series,title:str = \"\",xlabel:str = \"\"):\n",
        "    sns.boxplot(x=feature)\n",
        "    if(len(title)>0):\n",
        "        plt.title(title)\n",
        "    if(len(xlabel)>0):\n",
        "        plt.xlabel(xlabel)\n",
        "    plt.show()\n"
      ]
    },
    {
      "cell_type": "code",
      "execution_count": 192,
      "metadata": {
        "id": "L2j5GesnqrdE"
      },
      "outputs": [],
      "source": [
        "def showPercentageOfMissingValues(feature:pd.Series,labelRepresentingUnknownValue:ty.Union[str,int,float] = \"unknown\",tot:int = 45211) -> float:\n",
        "    \"\"\"\n",
        "    Returns the percentage of missing values in a feature.\n",
        "    \"\"\"\n",
        "    con = feature == labelRepresentingUnknownValue\n",
        "    return (con.sum()/tot)*100\n",
        "\n"
      ]
    },
    {
      "cell_type": "markdown",
      "metadata": {
        "id": "zOaAZXkDao1F"
      },
      "source": [
        "#### Processing continuous features"
      ]
    },
    {
      "cell_type": "code",
      "execution_count": 193,
      "metadata": {
        "colab": {
          "base_uri": "https://localhost:8080/",
          "height": 206
        },
        "id": "WrmfSE-RGpvq",
        "outputId": "86553b2e-bbdd-4f40-f076-3380d2fa7196"
      },
      "outputs": [
        {
          "data": {
            "text/html": [
              "<div>\n",
              "<style scoped>\n",
              "    .dataframe tbody tr th:only-of-type {\n",
              "        vertical-align: middle;\n",
              "    }\n",
              "\n",
              "    .dataframe tbody tr th {\n",
              "        vertical-align: top;\n",
              "    }\n",
              "\n",
              "    .dataframe thead th {\n",
              "        text-align: right;\n",
              "    }\n",
              "</style>\n",
              "<table border=\"1\" class=\"dataframe\">\n",
              "  <thead>\n",
              "    <tr style=\"text-align: right;\">\n",
              "      <th></th>\n",
              "      <th>age</th>\n",
              "      <th>job</th>\n",
              "      <th>marital</th>\n",
              "      <th>education_qual</th>\n",
              "      <th>call_type</th>\n",
              "      <th>day</th>\n",
              "      <th>mon</th>\n",
              "      <th>dur</th>\n",
              "      <th>num_calls</th>\n",
              "      <th>prev_outcome</th>\n",
              "      <th>cus_converted</th>\n",
              "    </tr>\n",
              "  </thead>\n",
              "  <tbody>\n",
              "    <tr>\n",
              "      <th>0</th>\n",
              "      <td>58</td>\n",
              "      <td>management</td>\n",
              "      <td>married</td>\n",
              "      <td>tertiary</td>\n",
              "      <td>unknown</td>\n",
              "      <td>5</td>\n",
              "      <td>may</td>\n",
              "      <td>261</td>\n",
              "      <td>1</td>\n",
              "      <td>unknown</td>\n",
              "      <td>0</td>\n",
              "    </tr>\n",
              "    <tr>\n",
              "      <th>1</th>\n",
              "      <td>44</td>\n",
              "      <td>technician</td>\n",
              "      <td>single</td>\n",
              "      <td>secondary</td>\n",
              "      <td>unknown</td>\n",
              "      <td>5</td>\n",
              "      <td>may</td>\n",
              "      <td>151</td>\n",
              "      <td>1</td>\n",
              "      <td>unknown</td>\n",
              "      <td>0</td>\n",
              "    </tr>\n",
              "    <tr>\n",
              "      <th>2</th>\n",
              "      <td>33</td>\n",
              "      <td>entrepreneur</td>\n",
              "      <td>married</td>\n",
              "      <td>secondary</td>\n",
              "      <td>unknown</td>\n",
              "      <td>5</td>\n",
              "      <td>may</td>\n",
              "      <td>76</td>\n",
              "      <td>1</td>\n",
              "      <td>unknown</td>\n",
              "      <td>0</td>\n",
              "    </tr>\n",
              "    <tr>\n",
              "      <th>3</th>\n",
              "      <td>47</td>\n",
              "      <td>blue-collar</td>\n",
              "      <td>married</td>\n",
              "      <td>unknown</td>\n",
              "      <td>unknown</td>\n",
              "      <td>5</td>\n",
              "      <td>may</td>\n",
              "      <td>92</td>\n",
              "      <td>1</td>\n",
              "      <td>unknown</td>\n",
              "      <td>0</td>\n",
              "    </tr>\n",
              "    <tr>\n",
              "      <th>4</th>\n",
              "      <td>33</td>\n",
              "      <td>unknown</td>\n",
              "      <td>single</td>\n",
              "      <td>unknown</td>\n",
              "      <td>unknown</td>\n",
              "      <td>5</td>\n",
              "      <td>may</td>\n",
              "      <td>198</td>\n",
              "      <td>1</td>\n",
              "      <td>unknown</td>\n",
              "      <td>0</td>\n",
              "    </tr>\n",
              "  </tbody>\n",
              "</table>\n",
              "</div>"
            ],
            "text/plain": [
              "   age           job  marital education_qual call_type  day  mon  dur  \\\n",
              "0   58    management  married       tertiary   unknown    5  may  261   \n",
              "1   44    technician   single      secondary   unknown    5  may  151   \n",
              "2   33  entrepreneur  married      secondary   unknown    5  may   76   \n",
              "3   47   blue-collar  married        unknown   unknown    5  may   92   \n",
              "4   33       unknown   single        unknown   unknown    5  may  198   \n",
              "\n",
              "   num_calls prev_outcome  cus_converted  \n",
              "0          1      unknown              0  \n",
              "1          1      unknown              0  \n",
              "2          1      unknown              0  \n",
              "3          1      unknown              0  \n",
              "4          1      unknown              0  "
            ]
          },
          "execution_count": 193,
          "metadata": {},
          "output_type": "execute_result"
        }
      ],
      "source": [
        "df.head()"
      ]
    },
    {
      "cell_type": "markdown",
      "metadata": {
        "id": "N94vyaaDSq7x"
      },
      "source": [
        "##### Age\n"
      ]
    },
    {
      "cell_type": "code",
      "execution_count": 194,
      "metadata": {
        "colab": {
          "base_uri": "https://localhost:8080/"
        },
        "id": "wjv2Gm3RStRv",
        "outputId": "dd189993-04eb-40fa-e1b6-891ddaff8dfb"
      },
      "outputs": [
        {
          "data": {
            "text/plain": [
              "array([58, 44, 33, 47, 35, 28, 42, 43, 41, 29, 53, 57, 51, 45, 60, 56, 32,\n",
              "       25, 40, 39, 52, 46, 36, 49, 59, 37, 50, 54, 55, 48, 24, 38, 31, 30,\n",
              "       27, 34, 23, 26, 61, 22, 21, 20, 66, 62, 83, 75, 67, 70, 65, 68, 64,\n",
              "       69, 72, 71, 19, 76, 85, 63, 90, 82, 73, 74, 78, 80, 94, 79, 77, 86,\n",
              "       95, 81, 18, 89, 84, 87, 92, 93, 88], dtype=int64)"
            ]
          },
          "execution_count": 194,
          "metadata": {},
          "output_type": "execute_result"
        }
      ],
      "source": [
        "df[\"age\"].unique()  "
      ]
    },
    {
      "cell_type": "markdown",
      "metadata": {
        "id": "983_xIksTXTj"
      },
      "source": [
        "Age feature\n",
        "\n",
        "- No missing values\n",
        "- Structured\n",
        "- int type"
      ]
    },
    {
      "cell_type": "code",
      "execution_count": 195,
      "metadata": {
        "colab": {
          "base_uri": "https://localhost:8080/",
          "height": 480
        },
        "id": "nfnobbvPTdFW",
        "outputId": "6b51b8bd-2672-4dc5-f77a-fbf241c8ba56"
      },
      "outputs": [
        {
          "data": {
            "image/png": "[encoded data removed]",
            "text/plain": [
              "<Figure size 640x480 with 1 Axes>"
            ]
          },
          "metadata": {},
          "output_type": "display_data"
        }
      ],
      "source": [
        "showBoxPlot(df[\"age\"],title=\"Age Before outlier elimination\",xlabel=\"Age\")"
      ]
    },
    {
      "cell_type": "code",
      "execution_count": 196,
      "metadata": {
        "colab": {
          "base_uri": "https://localhost:8080/",
          "height": 423
        },
        "id": "bR-_Nt_-XvK3",
        "outputId": "3d4f7864-1fd8-441a-eaa8-291db5fd91c8"
      },
      "outputs": [
        {
          "data": {
            "text/html": [
              "<div>\n",
              "<style scoped>\n",
              "    .dataframe tbody tr th:only-of-type {\n",
              "        vertical-align: middle;\n",
              "    }\n",
              "\n",
              "    .dataframe tbody tr th {\n",
              "        vertical-align: top;\n",
              "    }\n",
              "\n",
              "    .dataframe thead th {\n",
              "        text-align: right;\n",
              "    }\n",
              "</style>\n",
              "<table border=\"1\" class=\"dataframe\">\n",
              "  <thead>\n",
              "    <tr style=\"text-align: right;\">\n",
              "      <th></th>\n",
              "      <th>age</th>\n",
              "      <th>job</th>\n",
              "      <th>marital</th>\n",
              "      <th>education_qual</th>\n",
              "      <th>call_type</th>\n",
              "      <th>day</th>\n",
              "      <th>mon</th>\n",
              "      <th>dur</th>\n",
              "      <th>num_calls</th>\n",
              "      <th>prev_outcome</th>\n",
              "      <th>cus_converted</th>\n",
              "    </tr>\n",
              "  </thead>\n",
              "  <tbody>\n",
              "    <tr>\n",
              "      <th>0</th>\n",
              "      <td>58</td>\n",
              "      <td>management</td>\n",
              "      <td>married</td>\n",
              "      <td>tertiary</td>\n",
              "      <td>unknown</td>\n",
              "      <td>5</td>\n",
              "      <td>may</td>\n",
              "      <td>261</td>\n",
              "      <td>1</td>\n",
              "      <td>unknown</td>\n",
              "      <td>0</td>\n",
              "    </tr>\n",
              "    <tr>\n",
              "      <th>1</th>\n",
              "      <td>44</td>\n",
              "      <td>technician</td>\n",
              "      <td>single</td>\n",
              "      <td>secondary</td>\n",
              "      <td>unknown</td>\n",
              "      <td>5</td>\n",
              "      <td>may</td>\n",
              "      <td>151</td>\n",
              "      <td>1</td>\n",
              "      <td>unknown</td>\n",
              "      <td>0</td>\n",
              "    </tr>\n",
              "    <tr>\n",
              "      <th>2</th>\n",
              "      <td>33</td>\n",
              "      <td>entrepreneur</td>\n",
              "      <td>married</td>\n",
              "      <td>secondary</td>\n",
              "      <td>unknown</td>\n",
              "      <td>5</td>\n",
              "      <td>may</td>\n",
              "      <td>76</td>\n",
              "      <td>1</td>\n",
              "      <td>unknown</td>\n",
              "      <td>0</td>\n",
              "    </tr>\n",
              "    <tr>\n",
              "      <th>3</th>\n",
              "      <td>47</td>\n",
              "      <td>blue-collar</td>\n",
              "      <td>married</td>\n",
              "      <td>unknown</td>\n",
              "      <td>unknown</td>\n",
              "      <td>5</td>\n",
              "      <td>may</td>\n",
              "      <td>92</td>\n",
              "      <td>1</td>\n",
              "      <td>unknown</td>\n",
              "      <td>0</td>\n",
              "    </tr>\n",
              "    <tr>\n",
              "      <th>4</th>\n",
              "      <td>33</td>\n",
              "      <td>unknown</td>\n",
              "      <td>single</td>\n",
              "      <td>unknown</td>\n",
              "      <td>unknown</td>\n",
              "      <td>5</td>\n",
              "      <td>may</td>\n",
              "      <td>198</td>\n",
              "      <td>1</td>\n",
              "      <td>unknown</td>\n",
              "      <td>0</td>\n",
              "    </tr>\n",
              "    <tr>\n",
              "      <th>...</th>\n",
              "      <td>...</td>\n",
              "      <td>...</td>\n",
              "      <td>...</td>\n",
              "      <td>...</td>\n",
              "      <td>...</td>\n",
              "      <td>...</td>\n",
              "      <td>...</td>\n",
              "      <td>...</td>\n",
              "      <td>...</td>\n",
              "      <td>...</td>\n",
              "      <td>...</td>\n",
              "    </tr>\n",
              "    <tr>\n",
              "      <th>45206</th>\n",
              "      <td>51</td>\n",
              "      <td>technician</td>\n",
              "      <td>married</td>\n",
              "      <td>tertiary</td>\n",
              "      <td>cellular</td>\n",
              "      <td>17</td>\n",
              "      <td>nov</td>\n",
              "      <td>977</td>\n",
              "      <td>3</td>\n",
              "      <td>unknown</td>\n",
              "      <td>1</td>\n",
              "    </tr>\n",
              "    <tr>\n",
              "      <th>45207</th>\n",
              "      <td>70</td>\n",
              "      <td>retired</td>\n",
              "      <td>divorced</td>\n",
              "      <td>primary</td>\n",
              "      <td>cellular</td>\n",
              "      <td>17</td>\n",
              "      <td>nov</td>\n",
              "      <td>456</td>\n",
              "      <td>2</td>\n",
              "      <td>unknown</td>\n",
              "      <td>1</td>\n",
              "    </tr>\n",
              "    <tr>\n",
              "      <th>45208</th>\n",
              "      <td>70</td>\n",
              "      <td>retired</td>\n",
              "      <td>married</td>\n",
              "      <td>secondary</td>\n",
              "      <td>cellular</td>\n",
              "      <td>17</td>\n",
              "      <td>nov</td>\n",
              "      <td>1127</td>\n",
              "      <td>5</td>\n",
              "      <td>success</td>\n",
              "      <td>1</td>\n",
              "    </tr>\n",
              "    <tr>\n",
              "      <th>45209</th>\n",
              "      <td>57</td>\n",
              "      <td>blue-collar</td>\n",
              "      <td>married</td>\n",
              "      <td>secondary</td>\n",
              "      <td>telephone</td>\n",
              "      <td>17</td>\n",
              "      <td>nov</td>\n",
              "      <td>508</td>\n",
              "      <td>4</td>\n",
              "      <td>unknown</td>\n",
              "      <td>0</td>\n",
              "    </tr>\n",
              "    <tr>\n",
              "      <th>45210</th>\n",
              "      <td>37</td>\n",
              "      <td>entrepreneur</td>\n",
              "      <td>married</td>\n",
              "      <td>secondary</td>\n",
              "      <td>cellular</td>\n",
              "      <td>17</td>\n",
              "      <td>nov</td>\n",
              "      <td>361</td>\n",
              "      <td>2</td>\n",
              "      <td>other</td>\n",
              "      <td>0</td>\n",
              "    </tr>\n",
              "  </tbody>\n",
              "</table>\n",
              "<p>45211 rows × 11 columns</p>\n",
              "</div>"
            ],
            "text/plain": [
              "       age           job   marital education_qual  call_type  day  mon   dur  \\\n",
              "0       58    management   married       tertiary    unknown    5  may   261   \n",
              "1       44    technician    single      secondary    unknown    5  may   151   \n",
              "2       33  entrepreneur   married      secondary    unknown    5  may    76   \n",
              "3       47   blue-collar   married        unknown    unknown    5  may    92   \n",
              "4       33       unknown    single        unknown    unknown    5  may   198   \n",
              "...    ...           ...       ...            ...        ...  ...  ...   ...   \n",
              "45206   51    technician   married       tertiary   cellular   17  nov   977   \n",
              "45207   70       retired  divorced        primary   cellular   17  nov   456   \n",
              "45208   70       retired   married      secondary   cellular   17  nov  1127   \n",
              "45209   57   blue-collar   married      secondary  telephone   17  nov   508   \n",
              "45210   37  entrepreneur   married      secondary   cellular   17  nov   361   \n",
              "\n",
              "       num_calls prev_outcome  cus_converted  \n",
              "0              1      unknown              0  \n",
              "1              1      unknown              0  \n",
              "2              1      unknown              0  \n",
              "3              1      unknown              0  \n",
              "4              1      unknown              0  \n",
              "...          ...          ...            ...  \n",
              "45206          3      unknown              1  \n",
              "45207          2      unknown              1  \n",
              "45208          5      success              1  \n",
              "45209          4      unknown              0  \n",
              "45210          2        other              0  \n",
              "\n",
              "[45211 rows x 11 columns]"
            ]
          },
          "execution_count": 196,
          "metadata": {},
          "output_type": "execute_result"
        }
      ],
      "source": [
        "ageClipped = maxNMinForOutlierDeduction(df[\"age\"],maintainInt=True)\n",
        "df[\"age\"] = ageClipped\n",
        "df"
      ]
    },
    {
      "cell_type": "markdown",
      "metadata": {
        "id": "-B-0N63xqrdJ"
      },
      "source": [
        "After outlier elimination"
      ]
    },
    {
      "cell_type": "code",
      "execution_count": 197,
      "metadata": {
        "colab": {
          "base_uri": "https://localhost:8080/",
          "height": 480
        },
        "id": "OrsWvw43qrdK",
        "outputId": "e81466ac-0f04-4c77-994a-313eff437e69"
      },
      "outputs": [
        {
          "data": {
            "image/png": "[encoded data removed]",
            "text/plain": [
              "<Figure size 640x480 with 1 Axes>"
            ]
          },
          "metadata": {},
          "output_type": "display_data"
        }
      ],
      "source": [
        "showBoxPlot(df[\"age\"],title=\"Age after Outliers elimination\",xlabel=\"Age\")"
      ]
    },
    {
      "cell_type": "markdown",
      "metadata": {
        "id": "G-7xKGIUqrdL"
      },
      "source": [
        "##### Duration of call in seconds"
      ]
    },
    {
      "cell_type": "code",
      "execution_count": 198,
      "metadata": {
        "colab": {
          "base_uri": "https://localhost:8080/"
        },
        "id": "Bya_B-C_qrdL",
        "outputId": "470951ac-5ce7-4a80-c7ee-3a4c19b51864"
      },
      "outputs": [
        {
          "data": {
            "text/plain": [
              "dtype('int64')"
            ]
          },
          "execution_count": 198,
          "metadata": {},
          "output_type": "execute_result"
        }
      ],
      "source": [
        "df[\"dur\"].dtype"
      ]
    },
    {
      "cell_type": "code",
      "execution_count": 199,
      "metadata": {
        "colab": {
          "base_uri": "https://localhost:8080/"
        },
        "id": "oGdVvJwAqrdM",
        "outputId": "a3af49b5-e64a-4d71-feb7-5176734ba625"
      },
      "outputs": [
        {
          "data": {
            "text/plain": [
              "0"
            ]
          },
          "execution_count": 199,
          "metadata": {},
          "output_type": "execute_result"
        }
      ],
      "source": [
        "df[\"dur\"].min()"
      ]
    },
    {
      "cell_type": "markdown",
      "metadata": {
        "id": "XE1eiZIWqrdM"
      },
      "source": [
        "Implies the dur has reliable values, no negative values to imply missing values"
      ]
    },
    {
      "cell_type": "markdown",
      "metadata": {
        "id": "9G89bqFYqrdN"
      },
      "source": [
        "dur feature\n",
        "\n",
        "- No missing values\n",
        "- Structured\n",
        "- int type"
      ]
    },
    {
      "cell_type": "code",
      "execution_count": 200,
      "metadata": {
        "colab": {
          "base_uri": "https://localhost:8080/",
          "height": 480
        },
        "id": "FKHYSkNAqrdN",
        "outputId": "01cc4bc3-7ddb-4100-daf4-f560f11b6108"
      },
      "outputs": [
        {
          "data": {
            "image/png": "[encoded data removed]",
            "text/plain": [
              "<Figure size 640x480 with 1 Axes>"
            ]
          },
          "metadata": {},
          "output_type": "display_data"
        }
      ],
      "source": [
        "showBoxPlot(df[\"dur\"],title=\"Duration of call in seconds before outlier deduction\",xlabel=\"Duration of call\")"
      ]
    },
    {
      "cell_type": "code",
      "execution_count": 201,
      "metadata": {
        "id": "Og9vHKkqqrdO"
      },
      "outputs": [],
      "source": [
        "durClipped = maxNMinForOutlierDeduction(df[\"dur\"],maintainInt=True,clipNReturn=True)"
      ]
    },
    {
      "cell_type": "code",
      "execution_count": 202,
      "metadata": {
        "colab": {
          "base_uri": "https://localhost:8080/",
          "height": 480
        },
        "id": "1O1hk8oAqrdO",
        "outputId": "abd108cf-7404-4e74-e10c-6366aebf23dc"
      },
      "outputs": [
        {
          "data": {
            "image/png": "[encoded data removed]",
            "text/plain": [
              "<Figure size 640x480 with 1 Axes>"
            ]
          },
          "metadata": {},
          "output_type": "display_data"
        }
      ],
      "source": [
        "df[\"dur\"] = durClipped\n",
        "showBoxPlot(feature=df[\"dur\"], title=\"Duration of the call in seconds after outlier deduction\", xlabel=\"Duration of the call\")\n",
        "plt.show()"
      ]
    },
    {
      "cell_type": "markdown",
      "metadata": {
        "id": "gbPGF6IwqrdP"
      },
      "source": [
        "##### Number of calls during the campaign"
      ]
    },
    {
      "cell_type": "code",
      "execution_count": 203,
      "metadata": {
        "colab": {
          "base_uri": "https://localhost:8080/"
        },
        "id": "g1JOJLQJqrdQ",
        "outputId": "809f1ba3-eb3c-4e31-99a9-ddc897ea45f8"
      },
      "outputs": [
        {
          "data": {
            "text/plain": [
              "dtype('int64')"
            ]
          },
          "execution_count": 203,
          "metadata": {},
          "output_type": "execute_result"
        }
      ],
      "source": [
        "df[\"num_calls\"].dtype"
      ]
    },
    {
      "cell_type": "markdown",
      "metadata": {
        "id": "8cmp5745qrdQ"
      },
      "source": [
        "All samples are filled, to make sure all the sample have meaningful values like not negative number of calls which may imply the customer did not receive any calls, one need to"
      ]
    },
    {
      "cell_type": "code",
      "execution_count": 204,
      "metadata": {
        "colab": {
          "base_uri": "https://localhost:8080/"
        },
        "id": "fBEkmYU-qrdR",
        "outputId": "8cf4b33e-e878-49df-b835-0580718b663e"
      },
      "outputs": [
        {
          "data": {
            "text/plain": [
              "1"
            ]
          },
          "execution_count": 204,
          "metadata": {},
          "output_type": "execute_result"
        }
      ],
      "source": [
        "df[\"num_calls\"].min()"
      ]
    },
    {
      "cell_type": "markdown",
      "metadata": {
        "id": "ZjKOigJyqrdR"
      },
      "source": [
        "Each customer had at least one call (duration may be 0 but they did get call.)"
      ]
    },
    {
      "cell_type": "markdown",
      "metadata": {
        "id": "FiXyCK5XqrdS"
      },
      "source": [
        "num_calls feature\n",
        "\n",
        "- No missing values\n",
        "- Structured\n",
        "- int type"
      ]
    },
    {
      "cell_type": "code",
      "execution_count": 205,
      "metadata": {
        "colab": {
          "base_uri": "https://localhost:8080/",
          "height": 480
        },
        "id": "L3iSTxG6qrdS",
        "outputId": "0d2980d4-9579-46a6-eeb9-ae4928818495"
      },
      "outputs": [
        {
          "data": {
            "image/png": "[encoded data removed]",
            "text/plain": [
              "<Figure size 640x480 with 1 Axes>"
            ]
          },
          "metadata": {},
          "output_type": "display_data"
        }
      ],
      "source": [
        "showBoxPlot(df[\"num_calls\"],title=\"Number of calls during the campaign before outlier deduction.\",xlabel=\"Number of calls\")"
      ]
    },
    {
      "cell_type": "code",
      "execution_count": 206,
      "metadata": {
        "colab": {
          "base_uri": "https://localhost:8080/",
          "height": 480
        },
        "id": "dViUlJ22qrdT",
        "outputId": "56587551-0936-4233-cfe2-2891a48b5101"
      },
      "outputs": [
        {
          "data": {
            "image/png": "[encoded data removed]",
            "text/plain": [
              "<Figure size 640x480 with 1 Axes>"
            ]
          },
          "metadata": {},
          "output_type": "display_data"
        }
      ],
      "source": [
        "num_callsClipped = maxNMinForOutlierDeduction(df[\"num_calls\"],maintainInt=True)\n",
        "df[\"num_calls\"] = num_callsClipped\n",
        "showBoxPlot(df[\"num_calls\"],title=\"Number of calls during the campaign after outlier deduction\",xlabel=\"Number of calls\")"
      ]
    },
    {
      "cell_type": "markdown",
      "metadata": {
        "id": "kAoPLMztqrdU"
      },
      "source": [
        "##### Data after continuous variable pre-processing"
      ]
    },
    {
      "cell_type": "code",
      "execution_count": 207,
      "metadata": {
        "colab": {
          "base_uri": "https://localhost:8080/",
          "height": 423
        },
        "id": "sV11Us25qrdV",
        "outputId": "6426d3d5-16b0-4b0f-af5b-9fda7ee02c01"
      },
      "outputs": [
        {
          "data": {
            "text/html": [
              "<div>\n",
              "<style scoped>\n",
              "    .dataframe tbody tr th:only-of-type {\n",
              "        vertical-align: middle;\n",
              "    }\n",
              "\n",
              "    .dataframe tbody tr th {\n",
              "        vertical-align: top;\n",
              "    }\n",
              "\n",
              "    .dataframe thead th {\n",
              "        text-align: right;\n",
              "    }\n",
              "</style>\n",
              "<table border=\"1\" class=\"dataframe\">\n",
              "  <thead>\n",
              "    <tr style=\"text-align: right;\">\n",
              "      <th></th>\n",
              "      <th>age</th>\n",
              "      <th>job</th>\n",
              "      <th>marital</th>\n",
              "      <th>education_qual</th>\n",
              "      <th>call_type</th>\n",
              "      <th>day</th>\n",
              "      <th>mon</th>\n",
              "      <th>dur</th>\n",
              "      <th>num_calls</th>\n",
              "      <th>prev_outcome</th>\n",
              "      <th>cus_converted</th>\n",
              "    </tr>\n",
              "  </thead>\n",
              "  <tbody>\n",
              "    <tr>\n",
              "      <th>0</th>\n",
              "      <td>58</td>\n",
              "      <td>management</td>\n",
              "      <td>married</td>\n",
              "      <td>tertiary</td>\n",
              "      <td>unknown</td>\n",
              "      <td>5</td>\n",
              "      <td>may</td>\n",
              "      <td>261</td>\n",
              "      <td>1</td>\n",
              "      <td>unknown</td>\n",
              "      <td>0</td>\n",
              "    </tr>\n",
              "    <tr>\n",
              "      <th>1</th>\n",
              "      <td>44</td>\n",
              "      <td>technician</td>\n",
              "      <td>single</td>\n",
              "      <td>secondary</td>\n",
              "      <td>unknown</td>\n",
              "      <td>5</td>\n",
              "      <td>may</td>\n",
              "      <td>151</td>\n",
              "      <td>1</td>\n",
              "      <td>unknown</td>\n",
              "      <td>0</td>\n",
              "    </tr>\n",
              "    <tr>\n",
              "      <th>2</th>\n",
              "      <td>33</td>\n",
              "      <td>entrepreneur</td>\n",
              "      <td>married</td>\n",
              "      <td>secondary</td>\n",
              "      <td>unknown</td>\n",
              "      <td>5</td>\n",
              "      <td>may</td>\n",
              "      <td>76</td>\n",
              "      <td>1</td>\n",
              "      <td>unknown</td>\n",
              "      <td>0</td>\n",
              "    </tr>\n",
              "    <tr>\n",
              "      <th>3</th>\n",
              "      <td>47</td>\n",
              "      <td>blue-collar</td>\n",
              "      <td>married</td>\n",
              "      <td>unknown</td>\n",
              "      <td>unknown</td>\n",
              "      <td>5</td>\n",
              "      <td>may</td>\n",
              "      <td>92</td>\n",
              "      <td>1</td>\n",
              "      <td>unknown</td>\n",
              "      <td>0</td>\n",
              "    </tr>\n",
              "    <tr>\n",
              "      <th>4</th>\n",
              "      <td>33</td>\n",
              "      <td>unknown</td>\n",
              "      <td>single</td>\n",
              "      <td>unknown</td>\n",
              "      <td>unknown</td>\n",
              "      <td>5</td>\n",
              "      <td>may</td>\n",
              "      <td>198</td>\n",
              "      <td>1</td>\n",
              "      <td>unknown</td>\n",
              "      <td>0</td>\n",
              "    </tr>\n",
              "    <tr>\n",
              "      <th>...</th>\n",
              "      <td>...</td>\n",
              "      <td>...</td>\n",
              "      <td>...</td>\n",
              "      <td>...</td>\n",
              "      <td>...</td>\n",
              "      <td>...</td>\n",
              "      <td>...</td>\n",
              "      <td>...</td>\n",
              "      <td>...</td>\n",
              "      <td>...</td>\n",
              "      <td>...</td>\n",
              "    </tr>\n",
              "    <tr>\n",
              "      <th>45206</th>\n",
              "      <td>51</td>\n",
              "      <td>technician</td>\n",
              "      <td>married</td>\n",
              "      <td>tertiary</td>\n",
              "      <td>cellular</td>\n",
              "      <td>17</td>\n",
              "      <td>nov</td>\n",
              "      <td>643</td>\n",
              "      <td>3</td>\n",
              "      <td>unknown</td>\n",
              "      <td>1</td>\n",
              "    </tr>\n",
              "    <tr>\n",
              "      <th>45207</th>\n",
              "      <td>70</td>\n",
              "      <td>retired</td>\n",
              "      <td>divorced</td>\n",
              "      <td>primary</td>\n",
              "      <td>cellular</td>\n",
              "      <td>17</td>\n",
              "      <td>nov</td>\n",
              "      <td>456</td>\n",
              "      <td>2</td>\n",
              "      <td>unknown</td>\n",
              "      <td>1</td>\n",
              "    </tr>\n",
              "    <tr>\n",
              "      <th>45208</th>\n",
              "      <td>70</td>\n",
              "      <td>retired</td>\n",
              "      <td>married</td>\n",
              "      <td>secondary</td>\n",
              "      <td>cellular</td>\n",
              "      <td>17</td>\n",
              "      <td>nov</td>\n",
              "      <td>643</td>\n",
              "      <td>5</td>\n",
              "      <td>success</td>\n",
              "      <td>1</td>\n",
              "    </tr>\n",
              "    <tr>\n",
              "      <th>45209</th>\n",
              "      <td>57</td>\n",
              "      <td>blue-collar</td>\n",
              "      <td>married</td>\n",
              "      <td>secondary</td>\n",
              "      <td>telephone</td>\n",
              "      <td>17</td>\n",
              "      <td>nov</td>\n",
              "      <td>508</td>\n",
              "      <td>4</td>\n",
              "      <td>unknown</td>\n",
              "      <td>0</td>\n",
              "    </tr>\n",
              "    <tr>\n",
              "      <th>45210</th>\n",
              "      <td>37</td>\n",
              "      <td>entrepreneur</td>\n",
              "      <td>married</td>\n",
              "      <td>secondary</td>\n",
              "      <td>cellular</td>\n",
              "      <td>17</td>\n",
              "      <td>nov</td>\n",
              "      <td>361</td>\n",
              "      <td>2</td>\n",
              "      <td>other</td>\n",
              "      <td>0</td>\n",
              "    </tr>\n",
              "  </tbody>\n",
              "</table>\n",
              "<p>45211 rows × 11 columns</p>\n",
              "</div>"
            ],
            "text/plain": [
              "       age           job   marital education_qual  call_type  day  mon  dur  \\\n",
              "0       58    management   married       tertiary    unknown    5  may  261   \n",
              "1       44    technician    single      secondary    unknown    5  may  151   \n",
              "2       33  entrepreneur   married      secondary    unknown    5  may   76   \n",
              "3       47   blue-collar   married        unknown    unknown    5  may   92   \n",
              "4       33       unknown    single        unknown    unknown    5  may  198   \n",
              "...    ...           ...       ...            ...        ...  ...  ...  ...   \n",
              "45206   51    technician   married       tertiary   cellular   17  nov  643   \n",
              "45207   70       retired  divorced        primary   cellular   17  nov  456   \n",
              "45208   70       retired   married      secondary   cellular   17  nov  643   \n",
              "45209   57   blue-collar   married      secondary  telephone   17  nov  508   \n",
              "45210   37  entrepreneur   married      secondary   cellular   17  nov  361   \n",
              "\n",
              "       num_calls prev_outcome  cus_converted  \n",
              "0              1      unknown              0  \n",
              "1              1      unknown              0  \n",
              "2              1      unknown              0  \n",
              "3              1      unknown              0  \n",
              "4              1      unknown              0  \n",
              "...          ...          ...            ...  \n",
              "45206          3      unknown              1  \n",
              "45207          2      unknown              1  \n",
              "45208          5      success              1  \n",
              "45209          4      unknown              0  \n",
              "45210          2        other              0  \n",
              "\n",
              "[45211 rows x 11 columns]"
            ]
          },
          "execution_count": 207,
          "metadata": {},
          "output_type": "execute_result"
        }
      ],
      "source": [
        "df"
      ]
    },
    {
      "cell_type": "markdown",
      "metadata": {
        "id": "fB3xHXh1qrdV"
      },
      "source": [
        "#### Processing categorical features"
      ]
    },
    {
      "cell_type": "markdown",
      "metadata": {
        "id": "mL31YiWUqrdW"
      },
      "source": [
        "##### Job"
      ]
    },
    {
      "cell_type": "code",
      "execution_count": 208,
      "metadata": {
        "colab": {
          "base_uri": "https://localhost:8080/"
        },
        "id": "t0M2Bnq_qrdW",
        "outputId": "a4018c12-8bdc-4217-84f2-02c9eff102f5"
      },
      "outputs": [
        {
          "data": {
            "text/plain": [
              "blue-collar      9732\n",
              "management       9458\n",
              "technician       7597\n",
              "admin.           5171\n",
              "services         4154\n",
              "retired          2264\n",
              "self-employed    1579\n",
              "entrepreneur     1487\n",
              "unemployed       1303\n",
              "housemaid        1240\n",
              "student           938\n",
              "unknown           288\n",
              "Name: job, dtype: int64"
            ]
          },
          "execution_count": 208,
          "metadata": {},
          "output_type": "execute_result"
        }
      ],
      "source": [
        "df[\"job\"].value_counts()"
      ]
    },
    {
      "cell_type": "code",
      "execution_count": 209,
      "metadata": {
        "colab": {
          "base_uri": "https://localhost:8080/"
        },
        "id": "WSce8GinqrdX",
        "outputId": "7b3224d7-cdf6-4820-f52e-254c39405161"
      },
      "outputs": [
        {
          "data": {
            "text/plain": [
              "0.6370131162770122"
            ]
          },
          "execution_count": 209,
          "metadata": {},
          "output_type": "execute_result"
        }
      ],
      "source": [
        "misPerOfJob = showPercentageOfMissingValues(df[\"job\"],tot=df.shape[0],labelRepresentingUnknownValue=\"unknown\")\n",
        "misPerOfJob"
      ]
    },
    {
      "cell_type": "markdown",
      "metadata": {
        "id": "87gOR4xNqrdX"
      },
      "source": [
        "There are 288 unknown values which is less than 1%. Either can be imputed or removed. Missing values in Job is type of Missing at random. People may refused to say their occupation, we can use education qual to some what estimate the unknown values, but if **edu qual have higher missing values** than removing job's missing values and use jobs to predict to education"
      ]
    },
    {
      "cell_type": "markdown",
      "metadata": {
        "id": "6k_joXH0qrdY"
      },
      "source": [
        "Though by general knowledge, there is relation between edu qual. It must be proven graphically. I suspect blue collar jobs tend to have secondary or primary education and white collar must have tertiary."
      ]
    },
    {
      "cell_type": "code",
      "execution_count": 210,
      "metadata": {
        "colab": {
          "base_uri": "https://localhost:8080/",
          "height": 423
        },
        "id": "bO4eRiDlqrdY",
        "outputId": "9f4e6443-237b-44b0-8414-de35cb6d08c2"
      },
      "outputs": [
        {
          "data": {
            "text/html": [
              "<div>\n",
              "<style scoped>\n",
              "    .dataframe tbody tr th:only-of-type {\n",
              "        vertical-align: middle;\n",
              "    }\n",
              "\n",
              "    .dataframe tbody tr th {\n",
              "        vertical-align: top;\n",
              "    }\n",
              "\n",
              "    .dataframe thead th {\n",
              "        text-align: right;\n",
              "    }\n",
              "</style>\n",
              "<table border=\"1\" class=\"dataframe\">\n",
              "  <thead>\n",
              "    <tr style=\"text-align: right;\">\n",
              "      <th></th>\n",
              "      <th>age</th>\n",
              "      <th>job</th>\n",
              "      <th>marital</th>\n",
              "      <th>education_qual</th>\n",
              "      <th>call_type</th>\n",
              "      <th>day</th>\n",
              "      <th>mon</th>\n",
              "      <th>dur</th>\n",
              "      <th>num_calls</th>\n",
              "      <th>prev_outcome</th>\n",
              "      <th>cus_converted</th>\n",
              "    </tr>\n",
              "  </thead>\n",
              "  <tbody>\n",
              "    <tr>\n",
              "      <th>0</th>\n",
              "      <td>58</td>\n",
              "      <td>management</td>\n",
              "      <td>married</td>\n",
              "      <td>tertiary</td>\n",
              "      <td>unknown</td>\n",
              "      <td>5</td>\n",
              "      <td>may</td>\n",
              "      <td>261</td>\n",
              "      <td>1</td>\n",
              "      <td>unknown</td>\n",
              "      <td>0</td>\n",
              "    </tr>\n",
              "    <tr>\n",
              "      <th>1</th>\n",
              "      <td>44</td>\n",
              "      <td>technician</td>\n",
              "      <td>single</td>\n",
              "      <td>secondary</td>\n",
              "      <td>unknown</td>\n",
              "      <td>5</td>\n",
              "      <td>may</td>\n",
              "      <td>151</td>\n",
              "      <td>1</td>\n",
              "      <td>unknown</td>\n",
              "      <td>0</td>\n",
              "    </tr>\n",
              "    <tr>\n",
              "      <th>2</th>\n",
              "      <td>33</td>\n",
              "      <td>entrepreneur</td>\n",
              "      <td>married</td>\n",
              "      <td>secondary</td>\n",
              "      <td>unknown</td>\n",
              "      <td>5</td>\n",
              "      <td>may</td>\n",
              "      <td>76</td>\n",
              "      <td>1</td>\n",
              "      <td>unknown</td>\n",
              "      <td>0</td>\n",
              "    </tr>\n",
              "    <tr>\n",
              "      <th>3</th>\n",
              "      <td>47</td>\n",
              "      <td>blue-collar</td>\n",
              "      <td>married</td>\n",
              "      <td>unknown</td>\n",
              "      <td>unknown</td>\n",
              "      <td>5</td>\n",
              "      <td>may</td>\n",
              "      <td>92</td>\n",
              "      <td>1</td>\n",
              "      <td>unknown</td>\n",
              "      <td>0</td>\n",
              "    </tr>\n",
              "    <tr>\n",
              "      <th>4</th>\n",
              "      <td>33</td>\n",
              "      <td>unknown</td>\n",
              "      <td>single</td>\n",
              "      <td>unknown</td>\n",
              "      <td>unknown</td>\n",
              "      <td>5</td>\n",
              "      <td>may</td>\n",
              "      <td>198</td>\n",
              "      <td>1</td>\n",
              "      <td>unknown</td>\n",
              "      <td>0</td>\n",
              "    </tr>\n",
              "    <tr>\n",
              "      <th>...</th>\n",
              "      <td>...</td>\n",
              "      <td>...</td>\n",
              "      <td>...</td>\n",
              "      <td>...</td>\n",
              "      <td>...</td>\n",
              "      <td>...</td>\n",
              "      <td>...</td>\n",
              "      <td>...</td>\n",
              "      <td>...</td>\n",
              "      <td>...</td>\n",
              "      <td>...</td>\n",
              "    </tr>\n",
              "    <tr>\n",
              "      <th>45206</th>\n",
              "      <td>51</td>\n",
              "      <td>technician</td>\n",
              "      <td>married</td>\n",
              "      <td>tertiary</td>\n",
              "      <td>cellular</td>\n",
              "      <td>17</td>\n",
              "      <td>nov</td>\n",
              "      <td>643</td>\n",
              "      <td>3</td>\n",
              "      <td>unknown</td>\n",
              "      <td>1</td>\n",
              "    </tr>\n",
              "    <tr>\n",
              "      <th>45207</th>\n",
              "      <td>70</td>\n",
              "      <td>retired</td>\n",
              "      <td>divorced</td>\n",
              "      <td>primary</td>\n",
              "      <td>cellular</td>\n",
              "      <td>17</td>\n",
              "      <td>nov</td>\n",
              "      <td>456</td>\n",
              "      <td>2</td>\n",
              "      <td>unknown</td>\n",
              "      <td>1</td>\n",
              "    </tr>\n",
              "    <tr>\n",
              "      <th>45208</th>\n",
              "      <td>70</td>\n",
              "      <td>retired</td>\n",
              "      <td>married</td>\n",
              "      <td>secondary</td>\n",
              "      <td>cellular</td>\n",
              "      <td>17</td>\n",
              "      <td>nov</td>\n",
              "      <td>643</td>\n",
              "      <td>5</td>\n",
              "      <td>success</td>\n",
              "      <td>1</td>\n",
              "    </tr>\n",
              "    <tr>\n",
              "      <th>45209</th>\n",
              "      <td>57</td>\n",
              "      <td>blue-collar</td>\n",
              "      <td>married</td>\n",
              "      <td>secondary</td>\n",
              "      <td>telephone</td>\n",
              "      <td>17</td>\n",
              "      <td>nov</td>\n",
              "      <td>508</td>\n",
              "      <td>4</td>\n",
              "      <td>unknown</td>\n",
              "      <td>0</td>\n",
              "    </tr>\n",
              "    <tr>\n",
              "      <th>45210</th>\n",
              "      <td>37</td>\n",
              "      <td>entrepreneur</td>\n",
              "      <td>married</td>\n",
              "      <td>secondary</td>\n",
              "      <td>cellular</td>\n",
              "      <td>17</td>\n",
              "      <td>nov</td>\n",
              "      <td>361</td>\n",
              "      <td>2</td>\n",
              "      <td>other</td>\n",
              "      <td>0</td>\n",
              "    </tr>\n",
              "  </tbody>\n",
              "</table>\n",
              "<p>45211 rows × 11 columns</p>\n",
              "</div>"
            ],
            "text/plain": [
              "       age           job   marital education_qual  call_type  day  mon  dur  \\\n",
              "0       58    management   married       tertiary    unknown    5  may  261   \n",
              "1       44    technician    single      secondary    unknown    5  may  151   \n",
              "2       33  entrepreneur   married      secondary    unknown    5  may   76   \n",
              "3       47   blue-collar   married        unknown    unknown    5  may   92   \n",
              "4       33       unknown    single        unknown    unknown    5  may  198   \n",
              "...    ...           ...       ...            ...        ...  ...  ...  ...   \n",
              "45206   51    technician   married       tertiary   cellular   17  nov  643   \n",
              "45207   70       retired  divorced        primary   cellular   17  nov  456   \n",
              "45208   70       retired   married      secondary   cellular   17  nov  643   \n",
              "45209   57   blue-collar   married      secondary  telephone   17  nov  508   \n",
              "45210   37  entrepreneur   married      secondary   cellular   17  nov  361   \n",
              "\n",
              "       num_calls prev_outcome  cus_converted  \n",
              "0              1      unknown              0  \n",
              "1              1      unknown              0  \n",
              "2              1      unknown              0  \n",
              "3              1      unknown              0  \n",
              "4              1      unknown              0  \n",
              "...          ...          ...            ...  \n",
              "45206          3      unknown              1  \n",
              "45207          2      unknown              1  \n",
              "45208          5      success              1  \n",
              "45209          4      unknown              0  \n",
              "45210          2        other              0  \n",
              "\n",
              "[45211 rows x 11 columns]"
            ]
          },
          "execution_count": 210,
          "metadata": {},
          "output_type": "execute_result"
        }
      ],
      "source": [
        "df"
      ]
    },
    {
      "cell_type": "markdown",
      "metadata": {
        "id": "8t4XN3lgqrdZ"
      },
      "source": [
        "Checking relation between jobs and education qualification."
      ]
    },
    {
      "cell_type": "code",
      "execution_count": 211,
      "metadata": {
        "colab": {
          "base_uri": "https://localhost:8080/",
          "height": 494
        },
        "id": "jDA_DM-lqrda",
        "outputId": "cdff667e-6fc3-4b09-8cfe-68bc4c0ae137"
      },
      "outputs": [
        {
          "data": {
            "image/png": "[encoded data removed]",
            "text/plain": [
              "<Figure size 1000x500 with 2 Axes>"
            ]
          },
          "metadata": {},
          "output_type": "display_data"
        }
      ],
      "source": [
        "\n",
        "sns.set(style=\"whitegrid\")\n",
        "fig, (ax1, ax2) = plt.subplots(ncols=2, figsize=(10,5))\n",
        "\n",
        "sns.countplot(x=\"job\", hue=\"education_qual\", data=df, order=df['job'].value_counts().index, ax=ax1)\n",
        "ax1.set_xticklabels(ax1.get_xticklabels(), rotation=90, ha='right')\n",
        "ax1.set_xlabel('Job')\n",
        "ax1.set_ylabel('Count')\n",
        "ax1.set_title('Distribution of Job Types by Education Level (Using Seaborn)')\n",
        "\n",
        "pivot = pd.pivot_table(df, values='age', index='job', columns='education_qual', aggfunc='count')\n",
        "pivot.plot(kind='bar', stacked=True, ax=ax2)\n",
        "ax2.set_xlabel('Job')\n",
        "ax2.set_ylabel('Count')\n",
        "ax2.set_title('Distribution of Job Types by Education Level (Using Pandas)')\n",
        "\n",
        "fig.suptitle('Comparison of Job Types by Education Level', fontsize=14, fontweight='bold')\n",
        "plt.tight_layout()\n",
        "plt.show()\n",
        "\n"
      ]
    },
    {
      "cell_type": "markdown",
      "metadata": {
        "id": "-fJ2H9F9qrdb"
      },
      "source": [
        "From the above plots we can assume/conclude following things."
      ]
    },
    {
      "cell_type": "markdown",
      "metadata": {
        "id": "CgHaKHb7qrdb"
      },
      "source": [
        "\n",
        "- Blue collar jobs are more likely to have higher missing values than white collar jobs because it is Missing at random. People at lower positions are most likely dont reveal the educational background.\n",
        "- As per general knowledge, most white color jobs demands tertiary education.\n",
        "\n"
      ]
    },
    {
      "cell_type": "markdown",
      "metadata": {
        "id": "h30WrViVqrdc"
      },
      "source": [
        "Checking relationship between education and age."
      ]
    },
    {
      "cell_type": "code",
      "execution_count": 212,
      "metadata": {
        "colab": {
          "base_uri": "https://localhost:8080/",
          "height": 349
        },
        "id": "mUytOTbrqrdc",
        "outputId": "0b27ee8e-d465-4da2-d5a7-51694dadf88a"
      },
      "outputs": [
        {
          "data": {
            "image/png": "[encoded data removed]",
            "text/plain": [
              "<Figure size 1000x300 with 2 Axes>"
            ]
          },
          "metadata": {},
          "output_type": "display_data"
        }
      ],
      "source": [
        "fig,(ax1,ax2) = plt.subplots(ncols=2,figsize=(10,3))\n",
        "\n",
        "age_cat= pd.cut(df['age'], bins=[0, 18, 25, 35, 45, 55, 65, 75, 100], labels=['<18', '18-25', '25-35', '35-45', '45-55', '55-65', '65-75', '>75'])\n",
        "sns.countplot(x=age_cat, hue=\"education_qual\", data=df,ax=ax1)\n",
        "\n",
        "studentDf = df[df[\"job\"] == \"student\"]\n",
        "student_cut = pd.cut(studentDf[\"age\"],bins=[0,20,30,40,45,50,75],labels=[\"0-20\",\"20-30\",\"30-40\",\"40-45\",\"45-50\",\"<50\"])\n",
        "sns.countplot(x=student_cut, hue=\"education_qual\", data=studentDf,ax=ax2)\n",
        "ax2.set_ylabel('Students count')\n",
        "plt.suptitle('Relationship between age and education qualification', fontsize=14, fontweight='bold')\n",
        "\n",
        "plt.show()\n"
      ]
    },
    {
      "cell_type": "markdown",
      "metadata": {
        "id": "oRMOAl9uqrdd"
      },
      "source": [
        "Inference:\n",
        "- The max age of currently enrolled in students class of job is 48. \n",
        "- Most tertiary holders are in age of 25-55. \n",
        "- Most people tend to do their tertiary education in their 20's and 30's **(younger years)** and this claim can be proven by the second graph : count of tertiary students is higher in age group of 20-40.\n",
        "- So, population of higher educated individuals have a decreasing trend with age of 25 - 55. \n",
        "- Unknown trend follow similar trend as primary from first graph"
      ]
    },
    {
      "cell_type": "markdown",
      "metadata": {
        "id": "PqgeiNEmqrdd"
      },
      "source": [
        "Checking relationship between education qualification and marital status"
      ]
    },
    {
      "cell_type": "code",
      "execution_count": 213,
      "metadata": {
        "colab": {
          "base_uri": "https://localhost:8080/",
          "height": 320
        },
        "id": "S0h3eq0Kqrde",
        "outputId": "1a0a8bbc-548b-4a6c-802d-bc37d79202d5"
      },
      "outputs": [
        {
          "data": {
            "image/png": "[encoded data removed]",
            "text/plain": [
              "<Figure size 1000x300 with 2 Axes>"
            ]
          },
          "metadata": {},
          "output_type": "display_data"
        }
      ],
      "source": [
        "fig, (ax1,ax2) = plt.subplots(ncols=2,figsize=(10,3))\n",
        "\n",
        "sns.countplot(x=\"marital\", hue=\"education_qual\",data=df,ax = ax1)\n",
        "marriedNStudentCon = (df[\"job\"] == \"student\")\n",
        "sns.countplot(x=\"marital\", hue=\"education_qual\", data=df[marriedNStudentCon],ax=ax2)\n",
        "plt.show()"
      ]
    },
    {
      "cell_type": "markdown",
      "metadata": {
        "id": "3D1nfMPmqrde"
      },
      "source": [
        "Inference\n",
        "- There is decreasing trend in the relationship between marital status (from married to divorced ) and the qualification among all classes of marriage.\n",
        "- Married dominate both tertiary and secondary qualification. This can be accounted for there more marriage population dataset.\n",
        "- In second graph, most students are not married during education phase which attributes as per general knowledge.\n",
        "- Unknown pattern also a decreasing trend."
      ]
    },
    {
      "cell_type": "code",
      "execution_count": 214,
      "metadata": {
        "colab": {
          "base_uri": "https://localhost:8080/"
        },
        "id": "Alc9HyJWqrdg",
        "outputId": "29a3b667-276a-40e5-9fa8-3d4da0d7f894"
      },
      "outputs": [
        {
          "name": "stdout",
          "output_type": "stream",
          "text": [
            "We can use job to predict education_qual\n"
          ]
        }
      ],
      "source": [
        "if(showPercentageOfMissingValues(df[\"job\"],tot=df.shape[0]) < showPercentageOfMissingValues(df[\"education_qual\"],tot=df.shape[0])):\n",
        "    print(\"We can use job to predict education_qual\")\n",
        "else:\n",
        "    print(\"We can use education_qual to predict job\")"
      ]
    },
    {
      "cell_type": "markdown",
      "metadata": {
        "id": "Fhp255zJqrdh"
      },
      "source": [
        "**Given these conclusion we can remove jobs samples with missing values and use the jobs to estimate education_qual**"
      ]
    },
    {
      "cell_type": "markdown",
      "metadata": {
        "id": "8gM203Nkqrdi"
      },
      "source": [
        "We found job, age, profession have relationship with education qual, so we can use them to predict missing values in the education_qual column using **KnnImputer after encoding**"
      ]
    },
    {
      "cell_type": "code",
      "execution_count": 215,
      "metadata": {
        "colab": {
          "base_uri": "https://localhost:8080/"
        },
        "id": "71_JY15-qrdi",
        "outputId": "c066cc20-35ce-4b20-fe7d-de29dd29089b"
      },
      "outputs": [
        {
          "data": {
            "text/plain": [
              "(44923, 11)"
            ]
          },
          "execution_count": 215,
          "metadata": {},
          "output_type": "execute_result"
        }
      ],
      "source": [
        "con_For_Job_Section2 = df[\"job\"] != \"unknown\"\n",
        "df = df[con_For_Job_Section2]\n",
        "df.shape"
      ]
    },
    {
      "cell_type": "code",
      "execution_count": 216,
      "metadata": {
        "colab": {
          "base_uri": "https://localhost:8080/",
          "height": 49
        },
        "id": "TCAjk1ySqrdj",
        "outputId": "63f7179e-cce3-4de6-8d6f-7efc2ee7fcce"
      },
      "outputs": [
        {
          "data": {
            "text/html": [
              "<div>\n",
              "<style scoped>\n",
              "    .dataframe tbody tr th:only-of-type {\n",
              "        vertical-align: middle;\n",
              "    }\n",
              "\n",
              "    .dataframe tbody tr th {\n",
              "        vertical-align: top;\n",
              "    }\n",
              "\n",
              "    .dataframe thead th {\n",
              "        text-align: right;\n",
              "    }\n",
              "</style>\n",
              "<table border=\"1\" class=\"dataframe\">\n",
              "  <thead>\n",
              "    <tr style=\"text-align: right;\">\n",
              "      <th></th>\n",
              "      <th>age</th>\n",
              "      <th>job</th>\n",
              "      <th>marital</th>\n",
              "      <th>education_qual</th>\n",
              "      <th>call_type</th>\n",
              "      <th>day</th>\n",
              "      <th>mon</th>\n",
              "      <th>dur</th>\n",
              "      <th>num_calls</th>\n",
              "      <th>prev_outcome</th>\n",
              "      <th>cus_converted</th>\n",
              "    </tr>\n",
              "  </thead>\n",
              "  <tbody>\n",
              "  </tbody>\n",
              "</table>\n",
              "</div>"
            ],
            "text/plain": [
              "Empty DataFrame\n",
              "Columns: [age, job, marital, education_qual, call_type, day, mon, dur, num_calls, prev_outcome, cus_converted]\n",
              "Index: []"
            ]
          },
          "execution_count": 216,
          "metadata": {},
          "output_type": "execute_result"
        }
      ],
      "source": [
        "df[df[\"job\"] == \"unknown\"]"
      ]
    },
    {
      "cell_type": "markdown",
      "metadata": {
        "id": "obbt9UMAqrdk"
      },
      "source": [
        "Job_feature\n",
        "  - Removed missing values\n",
        "  - Not encoded\n",
        "  - structured"
      ]
    },
    {
      "cell_type": "markdown",
      "metadata": {
        "id": "zQ1hJSaKqrdl"
      },
      "source": [
        "##### Martial,Month,day"
      ]
    },
    {
      "cell_type": "code",
      "execution_count": 217,
      "metadata": {
        "colab": {
          "base_uri": "https://localhost:8080/"
        },
        "id": "0aAaN9PDqrdt",
        "outputId": "f7c491d3-b534-4933-b382-5994a8a3dc56"
      },
      "outputs": [
        {
          "data": {
            "text/plain": [
              "(dtype('O'), dtype('O'), dtype('int64'))"
            ]
          },
          "execution_count": 217,
          "metadata": {},
          "output_type": "execute_result"
        }
      ],
      "source": [
        "df[\"marital\"].dtype,df[\"mon\"].dtype,df['day'].dtype"
      ]
    },
    {
      "cell_type": "code",
      "execution_count": 218,
      "metadata": {
        "colab": {
          "base_uri": "https://localhost:8080/"
        },
        "id": "bAJfpNTgqrdt",
        "outputId": "4a19811f-5100-4784-b6c5-d317b9a59eb0"
      },
      "outputs": [
        {
          "data": {
            "text/plain": [
              "(array(['married', 'single', 'divorced'], dtype=object),\n",
              " array(['may', 'jun', 'jul', 'aug', 'oct', 'nov', 'dec', 'jan', 'feb',\n",
              "        'mar', 'apr', 'sep'], dtype=object),\n",
              " array([ 5,  6,  7,  8,  9, 12, 13, 14, 15, 16, 19, 20, 21, 23, 26, 27, 28,\n",
              "        29, 30,  2,  3,  4, 11, 17, 18, 24, 25,  1, 10, 22, 31],\n",
              "       dtype=int64))"
            ]
          },
          "execution_count": 218,
          "metadata": {},
          "output_type": "execute_result"
        }
      ],
      "source": [
        "df[\"marital\"].unique(),df[\"mon\"].unique(),df['day'].unique()"
      ]
    },
    {
      "cell_type": "markdown",
      "metadata": {
        "id": "-61ftm70qrdu"
      },
      "source": [
        "##### Call type"
      ]
    },
    {
      "cell_type": "code",
      "execution_count": 219,
      "metadata": {
        "colab": {
          "base_uri": "https://localhost:8080/"
        },
        "id": "zYdKmoUFqrdv",
        "outputId": "70e3cc4a-beaa-4974-96a5-83585b1e5e02"
      },
      "outputs": [
        {
          "data": {
            "text/plain": [
              "28.73583687643301"
            ]
          },
          "execution_count": 219,
          "metadata": {},
          "output_type": "execute_result"
        }
      ],
      "source": [
        "df[\"call_type\"].unique()\n",
        "showPercentageOfMissingValues(df[\"call_type\"],tot=df.shape[0])"
      ]
    },
    {
      "cell_type": "markdown",
      "metadata": {
        "id": "Hs_Zh-Enqrdv"
      },
      "source": [
        "There are more than 28% of samples in call_type feature have missing values. \n",
        "\n",
        "- Imputation ends up in bias\n",
        "- Removal ends up losing data.\n"
      ]
    },
    {
      "cell_type": "code",
      "execution_count": 220,
      "metadata": {
        "colab": {
          "base_uri": "https://localhost:8080/"
        },
        "id": "8zlLkRfrqrdw",
        "outputId": "b694d55f-1ad6-4bab-c5f8-e59725c1ee1b"
      },
      "outputs": [
        {
          "data": {
            "text/plain": [
              "81.70424949357789"
            ]
          },
          "execution_count": 220,
          "metadata": {},
          "output_type": "execute_result"
        }
      ],
      "source": [
        "showPercentageOfMissingValues(df[\"prev_outcome\"],tot=df.shape[0])"
      ]
    },
    {
      "cell_type": "markdown",
      "metadata": {
        "id": "LTgwzxxUqrdw"
      },
      "source": [
        "More than 81% of data are missing"
      ]
    },
    {
      "cell_type": "markdown",
      "metadata": {
        "id": "Ne_Smh6Cqrdx"
      },
      "source": [
        "educational_qual preprocessed after EDA"
      ]
    },
    {
      "cell_type": "markdown",
      "metadata": {
        "id": "GQJh3E6Zqrdy"
      },
      "source": [
        "### 3. Explanatory data analysis"
      ]
    },
    {
      "cell_type": "markdown",
      "metadata": {
        "id": "LDROkjEFqrdy"
      },
      "source": [
        "#### Distribution and Univariate analysis"
      ]
    },
    {
      "cell_type": "markdown",
      "metadata": {
        "id": "IM5bXpeCqrdz"
      },
      "source": [
        "##### Helper functions"
      ]
    },
    {
      "cell_type": "code",
      "execution_count": 221,
      "metadata": {
        "id": "cRTDk1Epqrdz"
      },
      "outputs": [],
      "source": [
        "def replaceUnknownWithNan(df:pd.DataFrame,featureName:str,missingStrName:str = \"unknown\"):\n",
        "    newDf = df.copy()\n",
        "    newFeatureSeries = newDf[featureName]\n",
        "    newFeatureSeries.replace(to_replace=missingStrName,value=np.nan,inplace=True)\n",
        "    newDf[featureName] = newFeatureSeries\n",
        "    return newDf"
      ]
    },
    {
      "cell_type": "code",
      "execution_count": 222,
      "metadata": {
        "id": "QUaoMIJ1qrdz"
      },
      "outputs": [],
      "source": [
        "def featureVsCus_converted(featureName:str,hspace=1.2,figSize=(15,5),difDf:pd.DataFrame = None) -> None:\n",
        "\n",
        "    if(difDf is not None):\n",
        "        newDf = difDf\n",
        "    else:\n",
        "        newDf = df\n",
        "    \n",
        "    fig,((ax0,ax1,ax2)) = plt.subplots(ncols=3,nrows=1,figsize=figSize,)\n",
        "    #fig.supxlabel(f\"{featureName.capitalize() }\",fontsize=20)\n",
        "    fig.supylabel(\"People Count\")\n",
        "    #plt.subplots_adjust(hspace=hspace)\n",
        "\n",
        "    newDf[featureName].value_counts().sort_values(ascending=False).plot(kind=\"bar\",title=f\"{featureName} distribution plot\",ax=ax0)\n",
        "\n",
        "    grouped:pd.Series = newDf.groupby(by=[featureName,\"cus_converted\"]).size()\n",
        "    grouped1:pd.DataFrame = grouped.unstack().sort_values(ascending=False,by=1)\n",
        "    grouped1.plot(kind=\"bar\",title=f\"{featureName} vs cus_converted (Yes and No)\",ax=ax1,xlabel=None)\n",
        "    ax1.legend(['Did not convert', 'Converted'])\n",
        "\n",
        "    subC = \"Subscribed_counts\"\n",
        "    grouped2 = grouped.reset_index(name=subC)\n",
        "    con = grouped2[\"cus_converted\"] == 1\n",
        "    grouped2 = grouped2[con]\n",
        "    grouped2.drop(columns=[\"cus_converted\"],axis=1,inplace=True)\n",
        "    grouped2.sort_values(by=subC,ascending=False,inplace=True)\n",
        "    grouped2.plot(kind=\"bar\",x=featureName,y=subC,legend=True,title=f\"{featureName} vs {subC}\",ax=ax2,xlabel=None,color=\"#af7f0e\")\n",
        "\n",
        "        \n",
        "\n",
        "    #map(lambda x: x.set_xlabel(\"\"),[ax0,ax1,ax2,ax3])  \n",
        "    ax0.set_xlabel(\"\")\n",
        "    ax1.set_xlabel(\"\")\n",
        "    ax2.set_xlabel(\"\")\n",
        "    plt.show() \n",
        "\n",
        "    "
      ]
    },
    {
      "cell_type": "code",
      "execution_count": 223,
      "metadata": {
        "id": "wdRyRUG0qrd0"
      },
      "outputs": [],
      "source": [
        "def encodeByPattern(featureName:str,mapPattern:dict):\n",
        "    encoded_feature = df[featureName].copy()\n",
        "    encoded_feature = encoded_feature.map(mapPattern)\n",
        "    df[featureName] = encoded_feature "
      ]
    },
    {
      "cell_type": "markdown",
      "metadata": {
        "id": "vdQwqqs8qrd1"
      },
      "source": [
        "##### education_qual vs target"
      ]
    },
    {
      "cell_type": "markdown",
      "metadata": {
        "id": "Z5P1mhQ7qrd1"
      },
      "source": [
        "Replacing unknown with np.nan"
      ]
    },
    {
      "cell_type": "code",
      "execution_count": 224,
      "metadata": {
        "id": "e7YTYMhJqrd2"
      },
      "outputs": [],
      "source": [
        "df = replaceUnknownWithNan(df,\"education_qual\")"
      ]
    },
    {
      "cell_type": "code",
      "execution_count": 225,
      "metadata": {
        "colab": {
          "base_uri": "https://localhost:8080/",
          "height": 406
        },
        "id": "GVKj7UU9qrd3",
        "outputId": "f37ebd27-b848-40a0-ec6f-7cca65e61ecf"
      },
      "outputs": [
        {
          "data": {
            "image/png": "[encoded data removed]",
            "text/plain": [
              "<Figure size 1500x500 with 3 Axes>"
            ]
          },
          "metadata": {},
          "output_type": "display_data"
        }
      ],
      "source": [
        "featureVsCus_converted(\"education_qual\")"
      ]
    },
    {
      "cell_type": "markdown",
      "metadata": {
        "id": "Lsk6qxs-qrd3"
      },
      "source": [
        "Inference:\n",
        "\n",
        "- Mostly **secondary** education qualified people where contacted, (which is not necessarily intentional).\n",
        "- **Primary** education qualified where least contacted\n",
        "- Most Subscribed -> secondary\n",
        "- Least Subscribed -> primary\n"
      ]
    },
    {
      "cell_type": "markdown",
      "metadata": {
        "id": "0PcCER1Tqrd4"
      },
      "source": [
        "Encoding"
      ]
    },
    {
      "attachments": {},
      "cell_type": "markdown",
      "metadata": {
        "id": "9eM1mJDTEqoL"
      },
      "source": [
        "Must skip 2 to reflect the discrepancy between tertiary and primary, but lets encode education_qual and decide about skipping process"
      ]
    },
    {
      "cell_type": "code",
      "execution_count": 226,
      "metadata": {
        "colab": {
          "base_uri": "https://localhost:8080/"
        },
        "id": "aoF7yneTqrd5",
        "outputId": "1d523476-6a03-4382-c155-0770c5ff1cb0"
      },
      "outputs": [
        {
          "data": {
            "text/plain": [
              "array([ 2.,  3., nan,  1.])"
            ]
          },
          "execution_count": 226,
          "metadata": {},
          "output_type": "execute_result"
        }
      ],
      "source": [
        "encodeByPattern(featureName=\"education_qual\",mapPattern={\"primary\":1,'tertiary':2,'secondary':3})\n",
        "df[\"education_qual\"].unique()"
      ]
    },
    {
      "cell_type": "code",
      "execution_count": 227,
      "metadata": {
        "colab": {
          "base_uri": "https://localhost:8080/",
          "height": 206
        },
        "id": "rfb6j9rSqrd6",
        "outputId": "9e963a5d-892c-4845-8854-999688865802"
      },
      "outputs": [
        {
          "data": {
            "text/html": [
              "<div>\n",
              "<style scoped>\n",
              "    .dataframe tbody tr th:only-of-type {\n",
              "        vertical-align: middle;\n",
              "    }\n",
              "\n",
              "    .dataframe tbody tr th {\n",
              "        vertical-align: top;\n",
              "    }\n",
              "\n",
              "    .dataframe thead th {\n",
              "        text-align: right;\n",
              "    }\n",
              "</style>\n",
              "<table border=\"1\" class=\"dataframe\">\n",
              "  <thead>\n",
              "    <tr style=\"text-align: right;\">\n",
              "      <th></th>\n",
              "      <th>age</th>\n",
              "      <th>job</th>\n",
              "      <th>marital</th>\n",
              "      <th>education_qual</th>\n",
              "      <th>call_type</th>\n",
              "      <th>day</th>\n",
              "      <th>mon</th>\n",
              "      <th>dur</th>\n",
              "      <th>num_calls</th>\n",
              "      <th>prev_outcome</th>\n",
              "      <th>cus_converted</th>\n",
              "    </tr>\n",
              "  </thead>\n",
              "  <tbody>\n",
              "    <tr>\n",
              "      <th>0</th>\n",
              "      <td>58</td>\n",
              "      <td>management</td>\n",
              "      <td>married</td>\n",
              "      <td>2.0</td>\n",
              "      <td>unknown</td>\n",
              "      <td>5</td>\n",
              "      <td>may</td>\n",
              "      <td>261</td>\n",
              "      <td>1</td>\n",
              "      <td>unknown</td>\n",
              "      <td>0</td>\n",
              "    </tr>\n",
              "    <tr>\n",
              "      <th>1</th>\n",
              "      <td>44</td>\n",
              "      <td>technician</td>\n",
              "      <td>single</td>\n",
              "      <td>3.0</td>\n",
              "      <td>unknown</td>\n",
              "      <td>5</td>\n",
              "      <td>may</td>\n",
              "      <td>151</td>\n",
              "      <td>1</td>\n",
              "      <td>unknown</td>\n",
              "      <td>0</td>\n",
              "    </tr>\n",
              "    <tr>\n",
              "      <th>2</th>\n",
              "      <td>33</td>\n",
              "      <td>entrepreneur</td>\n",
              "      <td>married</td>\n",
              "      <td>3.0</td>\n",
              "      <td>unknown</td>\n",
              "      <td>5</td>\n",
              "      <td>may</td>\n",
              "      <td>76</td>\n",
              "      <td>1</td>\n",
              "      <td>unknown</td>\n",
              "      <td>0</td>\n",
              "    </tr>\n",
              "    <tr>\n",
              "      <th>3</th>\n",
              "      <td>47</td>\n",
              "      <td>blue-collar</td>\n",
              "      <td>married</td>\n",
              "      <td>NaN</td>\n",
              "      <td>unknown</td>\n",
              "      <td>5</td>\n",
              "      <td>may</td>\n",
              "      <td>92</td>\n",
              "      <td>1</td>\n",
              "      <td>unknown</td>\n",
              "      <td>0</td>\n",
              "    </tr>\n",
              "    <tr>\n",
              "      <th>5</th>\n",
              "      <td>35</td>\n",
              "      <td>management</td>\n",
              "      <td>married</td>\n",
              "      <td>2.0</td>\n",
              "      <td>unknown</td>\n",
              "      <td>5</td>\n",
              "      <td>may</td>\n",
              "      <td>139</td>\n",
              "      <td>1</td>\n",
              "      <td>unknown</td>\n",
              "      <td>0</td>\n",
              "    </tr>\n",
              "  </tbody>\n",
              "</table>\n",
              "</div>"
            ],
            "text/plain": [
              "   age           job  marital  education_qual call_type  day  mon  dur  \\\n",
              "0   58    management  married             2.0   unknown    5  may  261   \n",
              "1   44    technician   single             3.0   unknown    5  may  151   \n",
              "2   33  entrepreneur  married             3.0   unknown    5  may   76   \n",
              "3   47   blue-collar  married             NaN   unknown    5  may   92   \n",
              "5   35    management  married             2.0   unknown    5  may  139   \n",
              "\n",
              "   num_calls prev_outcome  cus_converted  \n",
              "0          1      unknown              0  \n",
              "1          1      unknown              0  \n",
              "2          1      unknown              0  \n",
              "3          1      unknown              0  \n",
              "5          1      unknown              0  "
            ]
          },
          "execution_count": 227,
          "metadata": {},
          "output_type": "execute_result"
        }
      ],
      "source": [
        "df.head(5)"
      ]
    },
    {
      "cell_type": "markdown",
      "metadata": {
        "id": "rXCknyAoqrd6"
      },
      "source": [
        "##### marital vs target"
      ]
    },
    {
      "cell_type": "code",
      "execution_count": 228,
      "metadata": {
        "colab": {
          "base_uri": "https://localhost:8080/",
          "height": 395
        },
        "id": "d5hv78Dmqrd7",
        "outputId": "813be39d-420e-4f29-d2d6-f52a05f9f22b"
      },
      "outputs": [
        {
          "data": {
            "image/png": "[encoded data removed]",
            "text/plain": [
              "<Figure size 1500x500 with 3 Axes>"
            ]
          },
          "metadata": {},
          "output_type": "display_data"
        }
      ],
      "source": [
        "featureVsCus_converted(\"marital\")"
      ]
    },
    {
      "cell_type": "markdown",
      "metadata": {
        "id": "oXbdFbwAqrd8"
      },
      "source": [
        "Inference\n",
        "- Married men/women were more contacted.\n",
        "- Most subscribed are \"married\"\n",
        "- Least subscribed are \"divorced\""
      ]
    },
    {
      "cell_type": "markdown",
      "metadata": {
        "id": "6eDs3-T8qrd8"
      },
      "source": [
        "Encoding"
      ]
    },
    {
      "cell_type": "markdown",
      "metadata": {
        "id": "Us_J347Dqrd9"
      },
      "source": [
        "Skipping 2 to reflect difference between single and divorced."
      ]
    },
    {
      "cell_type": "code",
      "execution_count": 229,
      "metadata": {
        "colab": {
          "base_uri": "https://localhost:8080/"
        },
        "id": "kZyyjRsPqrd9",
        "outputId": "911ea9cb-7e2d-4f78-dec6-b29806b126fa"
      },
      "outputs": [
        {
          "data": {
            "text/plain": [
              "array([4, 3, 1], dtype=int64)"
            ]
          },
          "execution_count": 229,
          "metadata": {},
          "output_type": "execute_result"
        }
      ],
      "source": [
        "encodeByPattern(\"marital\", mapPattern={\"married\":4,\"single\":3,\"divorced\":1})\n",
        "df[\"marital\"].unique()"
      ]
    },
    {
      "cell_type": "code",
      "execution_count": 230,
      "metadata": {
        "colab": {
          "base_uri": "https://localhost:8080/",
          "height": 143
        },
        "id": "W4x6ckeCqrd-",
        "outputId": "0e6e49e7-02aa-451b-ec5c-20493c89677c"
      },
      "outputs": [
        {
          "data": {
            "text/html": [
              "<div>\n",
              "<style scoped>\n",
              "    .dataframe tbody tr th:only-of-type {\n",
              "        vertical-align: middle;\n",
              "    }\n",
              "\n",
              "    .dataframe tbody tr th {\n",
              "        vertical-align: top;\n",
              "    }\n",
              "\n",
              "    .dataframe thead th {\n",
              "        text-align: right;\n",
              "    }\n",
              "</style>\n",
              "<table border=\"1\" class=\"dataframe\">\n",
              "  <thead>\n",
              "    <tr style=\"text-align: right;\">\n",
              "      <th></th>\n",
              "      <th>age</th>\n",
              "      <th>job</th>\n",
              "      <th>marital</th>\n",
              "      <th>education_qual</th>\n",
              "      <th>call_type</th>\n",
              "      <th>day</th>\n",
              "      <th>mon</th>\n",
              "      <th>dur</th>\n",
              "      <th>num_calls</th>\n",
              "      <th>prev_outcome</th>\n",
              "      <th>cus_converted</th>\n",
              "    </tr>\n",
              "  </thead>\n",
              "  <tbody>\n",
              "    <tr>\n",
              "      <th>0</th>\n",
              "      <td>58</td>\n",
              "      <td>management</td>\n",
              "      <td>4</td>\n",
              "      <td>2.0</td>\n",
              "      <td>unknown</td>\n",
              "      <td>5</td>\n",
              "      <td>may</td>\n",
              "      <td>261</td>\n",
              "      <td>1</td>\n",
              "      <td>unknown</td>\n",
              "      <td>0</td>\n",
              "    </tr>\n",
              "    <tr>\n",
              "      <th>1</th>\n",
              "      <td>44</td>\n",
              "      <td>technician</td>\n",
              "      <td>3</td>\n",
              "      <td>3.0</td>\n",
              "      <td>unknown</td>\n",
              "      <td>5</td>\n",
              "      <td>may</td>\n",
              "      <td>151</td>\n",
              "      <td>1</td>\n",
              "      <td>unknown</td>\n",
              "      <td>0</td>\n",
              "    </tr>\n",
              "    <tr>\n",
              "      <th>2</th>\n",
              "      <td>33</td>\n",
              "      <td>entrepreneur</td>\n",
              "      <td>4</td>\n",
              "      <td>3.0</td>\n",
              "      <td>unknown</td>\n",
              "      <td>5</td>\n",
              "      <td>may</td>\n",
              "      <td>76</td>\n",
              "      <td>1</td>\n",
              "      <td>unknown</td>\n",
              "      <td>0</td>\n",
              "    </tr>\n",
              "  </tbody>\n",
              "</table>\n",
              "</div>"
            ],
            "text/plain": [
              "   age           job  marital  education_qual call_type  day  mon  dur  \\\n",
              "0   58    management        4             2.0   unknown    5  may  261   \n",
              "1   44    technician        3             3.0   unknown    5  may  151   \n",
              "2   33  entrepreneur        4             3.0   unknown    5  may   76   \n",
              "\n",
              "   num_calls prev_outcome  cus_converted  \n",
              "0          1      unknown              0  \n",
              "1          1      unknown              0  \n",
              "2          1      unknown              0  "
            ]
          },
          "execution_count": 230,
          "metadata": {},
          "output_type": "execute_result"
        }
      ],
      "source": [
        "df.head(3)"
      ]
    },
    {
      "cell_type": "markdown",
      "metadata": {
        "id": "ysO7TZhlqrd-"
      },
      "source": [
        "##### jobs vs target"
      ]
    },
    {
      "cell_type": "code",
      "execution_count": 231,
      "metadata": {
        "colab": {
          "base_uri": "https://localhost:8080/",
          "height": 427
        },
        "id": "QvcbI8oSqrd_",
        "outputId": "f6e35526-0b57-4cb3-d77f-c0ed2d205550"
      },
      "outputs": [
        {
          "data": {
            "image/png": "[encoded data removed]",
            "text/plain": [
              "<Figure size 1500x500 with 3 Axes>"
            ]
          },
          "metadata": {},
          "output_type": "display_data"
        }
      ],
      "source": [
        "featureVsCus_converted(\"job\")"
      ]
    },
    {
      "cell_type": "markdown",
      "metadata": {
        "id": "a5l9JX98qreA"
      },
      "source": [
        "Inference\n",
        "\n",
        "  1. Most subscribed are **management** professionals.\n",
        "  2. Though more blue collars were contacted but they are the most refusers to insure.\n",
        "  3. Least subscribed are house-maids.\n"
      ]
    },
    {
      "cell_type": "markdown",
      "metadata": {
        "id": "rwFN4Aj3qreG"
      },
      "source": [
        "Encoding"
      ]
    },
    {
      "cell_type": "markdown",
      "metadata": {
        "id": "Ua0VQA76qreH"
      },
      "source": [
        "Skipping 11 to reflect the difference between \"technician\" and \"management\"."
      ]
    },
    {
      "cell_type": "code",
      "execution_count": 232,
      "metadata": {
        "colab": {
          "base_uri": "https://localhost:8080/"
        },
        "id": "pd3rH15zqreI",
        "outputId": "734391f6-591f-4026-efa5-bce4fdb3e8e0"
      },
      "outputs": [
        {
          "data": {
            "text/plain": [
              "array(['management', 'technician', 'entrepreneur', 'blue-collar',\n",
              "       'retired', 'admin.', 'services', 'self-employed', 'unemployed',\n",
              "       'housemaid', 'student'], dtype=object)"
            ]
          },
          "execution_count": 232,
          "metadata": {},
          "output_type": "execute_result"
        }
      ],
      "source": [
        "df[\"job\"].unique()"
      ]
    },
    {
      "cell_type": "code",
      "execution_count": 233,
      "metadata": {
        "colab": {
          "base_uri": "https://localhost:8080/"
        },
        "id": "myeZ0d9QqreJ",
        "outputId": "80d6c521-3711-4da7-f125-6bfed5604345"
      },
      "outputs": [
        {
          "data": {
            "text/plain": [
              "array([12, 10,  2,  9,  7,  8,  6,  3,  4,  1,  5], dtype=int64)"
            ]
          },
          "execution_count": 233,
          "metadata": {},
          "output_type": "execute_result"
        }
      ],
      "source": [
        "encodeByPattern(\"job\", mapPattern={\"management\":12,\"technician\":10,\"blue-collar\":9,\"admin.\":8,'retired':7,'services':6,'student':5,'unemployed':4,'self-employed':3,'entrepreneur':2,'housemaid':1})\n",
        "df[\"job\"].unique()"
      ]
    },
    {
      "cell_type": "code",
      "execution_count": 234,
      "metadata": {
        "colab": {
          "base_uri": "https://localhost:8080/",
          "height": 143
        },
        "id": "rvCbQHktqreK",
        "outputId": "6a46155f-1b74-4f47-cb36-bc8e31e91dcf"
      },
      "outputs": [
        {
          "data": {
            "text/html": [
              "<div>\n",
              "<style scoped>\n",
              "    .dataframe tbody tr th:only-of-type {\n",
              "        vertical-align: middle;\n",
              "    }\n",
              "\n",
              "    .dataframe tbody tr th {\n",
              "        vertical-align: top;\n",
              "    }\n",
              "\n",
              "    .dataframe thead th {\n",
              "        text-align: right;\n",
              "    }\n",
              "</style>\n",
              "<table border=\"1\" class=\"dataframe\">\n",
              "  <thead>\n",
              "    <tr style=\"text-align: right;\">\n",
              "      <th></th>\n",
              "      <th>age</th>\n",
              "      <th>job</th>\n",
              "      <th>marital</th>\n",
              "      <th>education_qual</th>\n",
              "      <th>call_type</th>\n",
              "      <th>day</th>\n",
              "      <th>mon</th>\n",
              "      <th>dur</th>\n",
              "      <th>num_calls</th>\n",
              "      <th>prev_outcome</th>\n",
              "      <th>cus_converted</th>\n",
              "    </tr>\n",
              "  </thead>\n",
              "  <tbody>\n",
              "    <tr>\n",
              "      <th>0</th>\n",
              "      <td>58</td>\n",
              "      <td>12</td>\n",
              "      <td>4</td>\n",
              "      <td>2.0</td>\n",
              "      <td>unknown</td>\n",
              "      <td>5</td>\n",
              "      <td>may</td>\n",
              "      <td>261</td>\n",
              "      <td>1</td>\n",
              "      <td>unknown</td>\n",
              "      <td>0</td>\n",
              "    </tr>\n",
              "    <tr>\n",
              "      <th>1</th>\n",
              "      <td>44</td>\n",
              "      <td>10</td>\n",
              "      <td>3</td>\n",
              "      <td>3.0</td>\n",
              "      <td>unknown</td>\n",
              "      <td>5</td>\n",
              "      <td>may</td>\n",
              "      <td>151</td>\n",
              "      <td>1</td>\n",
              "      <td>unknown</td>\n",
              "      <td>0</td>\n",
              "    </tr>\n",
              "    <tr>\n",
              "      <th>2</th>\n",
              "      <td>33</td>\n",
              "      <td>2</td>\n",
              "      <td>4</td>\n",
              "      <td>3.0</td>\n",
              "      <td>unknown</td>\n",
              "      <td>5</td>\n",
              "      <td>may</td>\n",
              "      <td>76</td>\n",
              "      <td>1</td>\n",
              "      <td>unknown</td>\n",
              "      <td>0</td>\n",
              "    </tr>\n",
              "  </tbody>\n",
              "</table>\n",
              "</div>"
            ],
            "text/plain": [
              "   age  job  marital  education_qual call_type  day  mon  dur  num_calls  \\\n",
              "0   58   12        4             2.0   unknown    5  may  261          1   \n",
              "1   44   10        3             3.0   unknown    5  may  151          1   \n",
              "2   33    2        4             3.0   unknown    5  may   76          1   \n",
              "\n",
              "  prev_outcome  cus_converted  \n",
              "0      unknown              0  \n",
              "1      unknown              0  \n",
              "2      unknown              0  "
            ]
          },
          "execution_count": 234,
          "metadata": {},
          "output_type": "execute_result"
        }
      ],
      "source": [
        "df.head(3)"
      ]
    },
    {
      "cell_type": "markdown",
      "metadata": {
        "id": "vOrpsT1sqreK"
      },
      "source": [
        "Finding Missing values in education_qual by job,age,martial status by established relationship in section "
      ]
    },
    {
      "cell_type": "markdown",
      "metadata": {
        "id": "TeFb7rDzqreK"
      },
      "source": [
        "We can use interative-imputer with different hyper parameter to find best hyper parameter and fill the education_field missing values"
      ]
    },
    {
      "cell_type": "code",
      "execution_count": 235,
      "metadata": {
        "colab": {
          "base_uri": "https://localhost:8080/",
          "height": 206
        },
        "id": "ikYsIbKWqreM",
        "outputId": "5279f683-fd3c-4cb4-9b88-bdfd017dc160"
      },
      "outputs": [
        {
          "data": {
            "text/html": [
              "<div>\n",
              "<style scoped>\n",
              "    .dataframe tbody tr th:only-of-type {\n",
              "        vertical-align: middle;\n",
              "    }\n",
              "\n",
              "    .dataframe tbody tr th {\n",
              "        vertical-align: top;\n",
              "    }\n",
              "\n",
              "    .dataframe thead th {\n",
              "        text-align: right;\n",
              "    }\n",
              "</style>\n",
              "<table border=\"1\" class=\"dataframe\">\n",
              "  <thead>\n",
              "    <tr style=\"text-align: right;\">\n",
              "      <th></th>\n",
              "      <th>age</th>\n",
              "      <th>job</th>\n",
              "      <th>marital</th>\n",
              "      <th>education_qual</th>\n",
              "      <th>cus_converted</th>\n",
              "    </tr>\n",
              "  </thead>\n",
              "  <tbody>\n",
              "    <tr>\n",
              "      <th>0</th>\n",
              "      <td>58</td>\n",
              "      <td>12</td>\n",
              "      <td>4</td>\n",
              "      <td>2.0</td>\n",
              "      <td>0</td>\n",
              "    </tr>\n",
              "    <tr>\n",
              "      <th>1</th>\n",
              "      <td>44</td>\n",
              "      <td>10</td>\n",
              "      <td>3</td>\n",
              "      <td>3.0</td>\n",
              "      <td>0</td>\n",
              "    </tr>\n",
              "    <tr>\n",
              "      <th>2</th>\n",
              "      <td>33</td>\n",
              "      <td>2</td>\n",
              "      <td>4</td>\n",
              "      <td>3.0</td>\n",
              "      <td>0</td>\n",
              "    </tr>\n",
              "    <tr>\n",
              "      <th>3</th>\n",
              "      <td>47</td>\n",
              "      <td>9</td>\n",
              "      <td>4</td>\n",
              "      <td>NaN</td>\n",
              "      <td>0</td>\n",
              "    </tr>\n",
              "    <tr>\n",
              "      <th>5</th>\n",
              "      <td>35</td>\n",
              "      <td>12</td>\n",
              "      <td>4</td>\n",
              "      <td>2.0</td>\n",
              "      <td>0</td>\n",
              "    </tr>\n",
              "  </tbody>\n",
              "</table>\n",
              "</div>"
            ],
            "text/plain": [
              "   age  job  marital  education_qual  cus_converted\n",
              "0   58   12        4             2.0              0\n",
              "1   44   10        3             3.0              0\n",
              "2   33    2        4             3.0              0\n",
              "3   47    9        4             NaN              0\n",
              "5   35   12        4             2.0              0"
            ]
          },
          "execution_count": 235,
          "metadata": {},
          "output_type": "execute_result"
        }
      ],
      "source": [
        "knnDf = df.loc[:,[\"age\",\"job\",\"marital\",\"education_qual\",\"cus_converted\"]]\n",
        "knnDf.head(5)"
      ]
    },
    {
      "cell_type": "code",
      "execution_count": 236,
      "metadata": {
        "colab": {
          "base_uri": "https://localhost:8080/"
        },
        "id": "lPeSehbDqreM",
        "outputId": "f6f6deac-dff4-45eb-b4d4-633af1e50bde"
      },
      "outputs": [
        {
          "data": {
            "text/plain": [
              "3.8510339914965606"
            ]
          },
          "execution_count": 236,
          "metadata": {},
          "output_type": "execute_result"
        }
      ],
      "source": [
        "(df[\"education_qual\"].isna().sum()/df.shape[0])*100"
      ]
    },
    {
      "cell_type": "markdown",
      "metadata": {
        "id": "v28TQFd_qreO"
      },
      "source": [
        "Imputation by Interative imputer"
      ]
    },
    {
      "cell_type": "code",
      "execution_count": 237,
      "metadata": {
        "id": "aNHLqLVIx6Rm"
      },
      "outputs": [],
      "source": [
        "from sklearn.experimental import enable_iterative_imputer\n",
        "from sklearn.impute import IterativeImputer\n",
        "\n",
        "def iterative_imputation(newDf):\n",
        "    df = newDf.copy()\n",
        "    X = df[['job', 'marital', 'age','education_qual']]\n",
        "    imputer = IterativeImputer(max_iter=10, random_state=0, initial_strategy='constant')\n",
        "    y_imputed = imputer.fit_transform(X)\n",
        "    df['education_qual'] = (y_imputed[:,3]).astype(int)\n",
        "\n",
        "    return df\n",
        "\n",
        "imputedDF = iterative_imputation(knnDf)"
      ]
    },
    {
      "cell_type": "code",
      "execution_count": 238,
      "metadata": {},
      "outputs": [],
      "source": [
        "def printDifference(df:pd.DataFrame,datasetName:str,featureName:str):\n",
        "    print(f\"{datasetName} dataset\")\n",
        "    print(f\"Missing Values: {df[featureName].isna().sum()}\\n\")\n",
        "    print(f\"Unique Values: {df[featureName].unique()}\\n\")\n",
        "    print(f\"Value Counts: \\n{df[featureName].value_counts()}\")\n",
        "    print(\" \",\"_______\",\"\\n\")\n",
        "\n"
      ]
    },
    {
      "cell_type": "code",
      "execution_count": 239,
      "metadata": {},
      "outputs": [
        {
          "name": "stdout",
          "output_type": "stream",
          "text": [
            "Original dataset dataset\n",
            "Missing Values: 1730\n",
            "\n",
            "Unique Values: [ 2.  3. nan  1.]\n",
            "\n",
            "Value Counts: \n",
            "3.0    23131\n",
            "2.0    13262\n",
            "1.0     6800\n",
            "Name: education_qual, dtype: int64\n",
            "  _______ \n",
            "\n",
            "Imputed dataset dataset\n",
            "Missing Values: 0\n",
            "\n",
            "Unique Values: [2 3 1]\n",
            "\n",
            "Value Counts: \n",
            "3    23131\n",
            "2    14988\n",
            "1     6804\n",
            "Name: education_qual, dtype: int64\n",
            "  _______ \n",
            "\n"
          ]
        }
      ],
      "source": [
        "printDifference(df,\"Original dataset\",\"education_qual\")\n",
        "printDifference(imputedDF,\"Imputed dataset\",\"education_qual\")"
      ]
    },
    {
      "attachments": {},
      "cell_type": "markdown",
      "metadata": {},
      "source": [
        "Inference\n",
        "- Tertiary count has been increased,\n",
        "- Secondary count is unchanged\n",
        "- Primary count is unchanged."
      ]
    },
    {
      "cell_type": "code",
      "execution_count": 240,
      "metadata": {},
      "outputs": [],
      "source": [
        "df[\"education_qual\"] = imputedDF[\"education_qual\"]"
      ]
    },
    {
      "cell_type": "code",
      "execution_count": 242,
      "metadata": {
        "id": "L5wm1QoVE_0b"
      },
      "outputs": [
        {
          "name": "stdout",
          "output_type": "stream",
          "text": [
            "Missing Values: 0\n"
          ]
        },
        {
          "data": {
            "image/png": "[encoded data removed]",
            "text/plain": [
              "<Figure size 1500x500 with 3 Axes>"
            ]
          },
          "metadata": {},
          "output_type": "display_data"
        }
      ],
      "source": [
        "decoded_edu = df.copy()\n",
        "decoded_edu[\"education_qual\"] = decoded_edu[\"education_qual\"].map({1:\"primary\",3:\"secondary\",2:\"tertiary\"})\n",
        "print(f\"Missing Values: {decoded_edu['education_qual'].isna().sum()}\")\n",
        "featureVsCus_converted(\"education_qual\",difDf=decoded_edu)\n",
        "\n"
      ]
    },
    {
      "attachments": {},
      "cell_type": "markdown",
      "metadata": {},
      "source": [
        "Lets encode `{3:4,2:3,1:1}` in original df"
      ]
    },
    {
      "cell_type": "code",
      "execution_count": 243,
      "metadata": {},
      "outputs": [
        {
          "data": {
            "text/html": [
              "<div>\n",
              "<style scoped>\n",
              "    .dataframe tbody tr th:only-of-type {\n",
              "        vertical-align: middle;\n",
              "    }\n",
              "\n",
              "    .dataframe tbody tr th {\n",
              "        vertical-align: top;\n",
              "    }\n",
              "\n",
              "    .dataframe thead th {\n",
              "        text-align: right;\n",
              "    }\n",
              "</style>\n",
              "<table border=\"1\" class=\"dataframe\">\n",
              "  <thead>\n",
              "    <tr style=\"text-align: right;\">\n",
              "      <th></th>\n",
              "      <th>age</th>\n",
              "      <th>job</th>\n",
              "      <th>marital</th>\n",
              "      <th>education_qual</th>\n",
              "      <th>call_type</th>\n",
              "      <th>day</th>\n",
              "      <th>mon</th>\n",
              "      <th>dur</th>\n",
              "      <th>num_calls</th>\n",
              "      <th>prev_outcome</th>\n",
              "      <th>cus_converted</th>\n",
              "    </tr>\n",
              "  </thead>\n",
              "  <tbody>\n",
              "    <tr>\n",
              "      <th>0</th>\n",
              "      <td>58</td>\n",
              "      <td>12</td>\n",
              "      <td>4</td>\n",
              "      <td>3</td>\n",
              "      <td>unknown</td>\n",
              "      <td>5</td>\n",
              "      <td>may</td>\n",
              "      <td>261</td>\n",
              "      <td>1</td>\n",
              "      <td>unknown</td>\n",
              "      <td>0</td>\n",
              "    </tr>\n",
              "    <tr>\n",
              "      <th>1</th>\n",
              "      <td>44</td>\n",
              "      <td>10</td>\n",
              "      <td>3</td>\n",
              "      <td>4</td>\n",
              "      <td>unknown</td>\n",
              "      <td>5</td>\n",
              "      <td>may</td>\n",
              "      <td>151</td>\n",
              "      <td>1</td>\n",
              "      <td>unknown</td>\n",
              "      <td>0</td>\n",
              "    </tr>\n",
              "    <tr>\n",
              "      <th>2</th>\n",
              "      <td>33</td>\n",
              "      <td>2</td>\n",
              "      <td>4</td>\n",
              "      <td>4</td>\n",
              "      <td>unknown</td>\n",
              "      <td>5</td>\n",
              "      <td>may</td>\n",
              "      <td>76</td>\n",
              "      <td>1</td>\n",
              "      <td>unknown</td>\n",
              "      <td>0</td>\n",
              "    </tr>\n",
              "    <tr>\n",
              "      <th>3</th>\n",
              "      <td>47</td>\n",
              "      <td>9</td>\n",
              "      <td>4</td>\n",
              "      <td>3</td>\n",
              "      <td>unknown</td>\n",
              "      <td>5</td>\n",
              "      <td>may</td>\n",
              "      <td>92</td>\n",
              "      <td>1</td>\n",
              "      <td>unknown</td>\n",
              "      <td>0</td>\n",
              "    </tr>\n",
              "    <tr>\n",
              "      <th>5</th>\n",
              "      <td>35</td>\n",
              "      <td>12</td>\n",
              "      <td>4</td>\n",
              "      <td>3</td>\n",
              "      <td>unknown</td>\n",
              "      <td>5</td>\n",
              "      <td>may</td>\n",
              "      <td>139</td>\n",
              "      <td>1</td>\n",
              "      <td>unknown</td>\n",
              "      <td>0</td>\n",
              "    </tr>\n",
              "    <tr>\n",
              "      <th>...</th>\n",
              "      <td>...</td>\n",
              "      <td>...</td>\n",
              "      <td>...</td>\n",
              "      <td>...</td>\n",
              "      <td>...</td>\n",
              "      <td>...</td>\n",
              "      <td>...</td>\n",
              "      <td>...</td>\n",
              "      <td>...</td>\n",
              "      <td>...</td>\n",
              "      <td>...</td>\n",
              "    </tr>\n",
              "    <tr>\n",
              "      <th>45206</th>\n",
              "      <td>51</td>\n",
              "      <td>10</td>\n",
              "      <td>4</td>\n",
              "      <td>3</td>\n",
              "      <td>cellular</td>\n",
              "      <td>17</td>\n",
              "      <td>nov</td>\n",
              "      <td>643</td>\n",
              "      <td>3</td>\n",
              "      <td>unknown</td>\n",
              "      <td>1</td>\n",
              "    </tr>\n",
              "    <tr>\n",
              "      <th>45207</th>\n",
              "      <td>70</td>\n",
              "      <td>7</td>\n",
              "      <td>1</td>\n",
              "      <td>1</td>\n",
              "      <td>cellular</td>\n",
              "      <td>17</td>\n",
              "      <td>nov</td>\n",
              "      <td>456</td>\n",
              "      <td>2</td>\n",
              "      <td>unknown</td>\n",
              "      <td>1</td>\n",
              "    </tr>\n",
              "    <tr>\n",
              "      <th>45208</th>\n",
              "      <td>70</td>\n",
              "      <td>7</td>\n",
              "      <td>4</td>\n",
              "      <td>4</td>\n",
              "      <td>cellular</td>\n",
              "      <td>17</td>\n",
              "      <td>nov</td>\n",
              "      <td>643</td>\n",
              "      <td>5</td>\n",
              "      <td>success</td>\n",
              "      <td>1</td>\n",
              "    </tr>\n",
              "    <tr>\n",
              "      <th>45209</th>\n",
              "      <td>57</td>\n",
              "      <td>9</td>\n",
              "      <td>4</td>\n",
              "      <td>4</td>\n",
              "      <td>telephone</td>\n",
              "      <td>17</td>\n",
              "      <td>nov</td>\n",
              "      <td>508</td>\n",
              "      <td>4</td>\n",
              "      <td>unknown</td>\n",
              "      <td>0</td>\n",
              "    </tr>\n",
              "    <tr>\n",
              "      <th>45210</th>\n",
              "      <td>37</td>\n",
              "      <td>2</td>\n",
              "      <td>4</td>\n",
              "      <td>4</td>\n",
              "      <td>cellular</td>\n",
              "      <td>17</td>\n",
              "      <td>nov</td>\n",
              "      <td>361</td>\n",
              "      <td>2</td>\n",
              "      <td>other</td>\n",
              "      <td>0</td>\n",
              "    </tr>\n",
              "  </tbody>\n",
              "</table>\n",
              "<p>44923 rows × 11 columns</p>\n",
              "</div>"
            ],
            "text/plain": [
              "       age  job  marital  education_qual  call_type  day  mon  dur  num_calls  \\\n",
              "0       58   12        4               3    unknown    5  may  261          1   \n",
              "1       44   10        3               4    unknown    5  may  151          1   \n",
              "2       33    2        4               4    unknown    5  may   76          1   \n",
              "3       47    9        4               3    unknown    5  may   92          1   \n",
              "5       35   12        4               3    unknown    5  may  139          1   \n",
              "...    ...  ...      ...             ...        ...  ...  ...  ...        ...   \n",
              "45206   51   10        4               3   cellular   17  nov  643          3   \n",
              "45207   70    7        1               1   cellular   17  nov  456          2   \n",
              "45208   70    7        4               4   cellular   17  nov  643          5   \n",
              "45209   57    9        4               4  telephone   17  nov  508          4   \n",
              "45210   37    2        4               4   cellular   17  nov  361          2   \n",
              "\n",
              "      prev_outcome  cus_converted  \n",
              "0          unknown              0  \n",
              "1          unknown              0  \n",
              "2          unknown              0  \n",
              "3          unknown              0  \n",
              "5          unknown              0  \n",
              "...            ...            ...  \n",
              "45206      unknown              1  \n",
              "45207      unknown              1  \n",
              "45208      success              1  \n",
              "45209      unknown              0  \n",
              "45210        other              0  \n",
              "\n",
              "[44923 rows x 11 columns]"
            ]
          },
          "execution_count": 243,
          "metadata": {},
          "output_type": "execute_result"
        }
      ],
      "source": [
        "df[\"education_qual\"] = df[\"education_qual\"].map({3:4,2:3,1:1})\n",
        "df"
      ]
    },
    {
      "attachments": {},
      "cell_type": "markdown",
      "metadata": {},
      "source": [
        "target vs call_type"
      ]
    },
    {
      "cell_type": "code",
      "execution_count": 247,
      "metadata": {},
      "outputs": [
        {
          "data": {
            "text/plain": [
              "28.73583687643301"
            ]
          },
          "execution_count": 247,
          "metadata": {},
          "output_type": "execute_result"
        }
      ],
      "source": [
        "showPercentageOfMissingValues(df[\"call_type\"],tot=df.shape[0])"
      ]
    },
    {
      "attachments": {},
      "cell_type": "markdown",
      "metadata": {},
      "source": [
        "Call_type is missing completely random."
      ]
    },
    {
      "cell_type": "code",
      "execution_count": 244,
      "metadata": {},
      "outputs": [
        {
          "data": {
            "image/png": "[encoded data removed]",
            "text/plain": [
              "<Figure size 1500x500 with 3 Axes>"
            ]
          },
          "metadata": {},
          "output_type": "display_data"
        }
      ],
      "source": [
        "featureVsCus_converted(\"call_type\")"
      ]
    },
    {
      "attachments": {},
      "cell_type": "markdown",
      "metadata": {},
      "source": [
        "Inference\n",
        "- Most subscribed => cellular\n",
        "- least subscribed => unknown\n",
        "- There is a excess weight on cellular compared to other call_types. \n"
      ]
    },
    {
      "attachments": {},
      "cell_type": "markdown",
      "metadata": {},
      "source": [
        "Encoding"
      ]
    },
    {
      "cell_type": "code",
      "execution_count": 248,
      "metadata": {},
      "outputs": [
        {
          "data": {
            "text/plain": [
              "array(['unknown', 'cellular', 'telephone'], dtype=object)"
            ]
          },
          "execution_count": 248,
          "metadata": {},
          "output_type": "execute_result"
        }
      ],
      "source": [
        "df[\"call_type\"].unique()"
      ]
    },
    {
      "cell_type": "code",
      "execution_count": 249,
      "metadata": {},
      "outputs": [
        {
          "data": {
            "text/html": [
              "<div>\n",
              "<style scoped>\n",
              "    .dataframe tbody tr th:only-of-type {\n",
              "        vertical-align: middle;\n",
              "    }\n",
              "\n",
              "    .dataframe tbody tr th {\n",
              "        vertical-align: top;\n",
              "    }\n",
              "\n",
              "    .dataframe thead th {\n",
              "        text-align: right;\n",
              "    }\n",
              "</style>\n",
              "<table border=\"1\" class=\"dataframe\">\n",
              "  <thead>\n",
              "    <tr style=\"text-align: right;\">\n",
              "      <th></th>\n",
              "      <th>age</th>\n",
              "      <th>job</th>\n",
              "      <th>marital</th>\n",
              "      <th>education_qual</th>\n",
              "      <th>call_type</th>\n",
              "      <th>day</th>\n",
              "      <th>mon</th>\n",
              "      <th>dur</th>\n",
              "      <th>num_calls</th>\n",
              "      <th>prev_outcome</th>\n",
              "      <th>cus_converted</th>\n",
              "    </tr>\n",
              "  </thead>\n",
              "  <tbody>\n",
              "    <tr>\n",
              "      <th>0</th>\n",
              "      <td>58</td>\n",
              "      <td>12</td>\n",
              "      <td>4</td>\n",
              "      <td>3</td>\n",
              "      <td>2</td>\n",
              "      <td>5</td>\n",
              "      <td>may</td>\n",
              "      <td>261</td>\n",
              "      <td>1</td>\n",
              "      <td>unknown</td>\n",
              "      <td>0</td>\n",
              "    </tr>\n",
              "    <tr>\n",
              "      <th>1</th>\n",
              "      <td>44</td>\n",
              "      <td>10</td>\n",
              "      <td>3</td>\n",
              "      <td>4</td>\n",
              "      <td>2</td>\n",
              "      <td>5</td>\n",
              "      <td>may</td>\n",
              "      <td>151</td>\n",
              "      <td>1</td>\n",
              "      <td>unknown</td>\n",
              "      <td>0</td>\n",
              "    </tr>\n",
              "    <tr>\n",
              "      <th>2</th>\n",
              "      <td>33</td>\n",
              "      <td>2</td>\n",
              "      <td>4</td>\n",
              "      <td>4</td>\n",
              "      <td>2</td>\n",
              "      <td>5</td>\n",
              "      <td>may</td>\n",
              "      <td>76</td>\n",
              "      <td>1</td>\n",
              "      <td>unknown</td>\n",
              "      <td>0</td>\n",
              "    </tr>\n",
              "    <tr>\n",
              "      <th>3</th>\n",
              "      <td>47</td>\n",
              "      <td>9</td>\n",
              "      <td>4</td>\n",
              "      <td>3</td>\n",
              "      <td>2</td>\n",
              "      <td>5</td>\n",
              "      <td>may</td>\n",
              "      <td>92</td>\n",
              "      <td>1</td>\n",
              "      <td>unknown</td>\n",
              "      <td>0</td>\n",
              "    </tr>\n",
              "    <tr>\n",
              "      <th>5</th>\n",
              "      <td>35</td>\n",
              "      <td>12</td>\n",
              "      <td>4</td>\n",
              "      <td>3</td>\n",
              "      <td>2</td>\n",
              "      <td>5</td>\n",
              "      <td>may</td>\n",
              "      <td>139</td>\n",
              "      <td>1</td>\n",
              "      <td>unknown</td>\n",
              "      <td>0</td>\n",
              "    </tr>\n",
              "    <tr>\n",
              "      <th>...</th>\n",
              "      <td>...</td>\n",
              "      <td>...</td>\n",
              "      <td>...</td>\n",
              "      <td>...</td>\n",
              "      <td>...</td>\n",
              "      <td>...</td>\n",
              "      <td>...</td>\n",
              "      <td>...</td>\n",
              "      <td>...</td>\n",
              "      <td>...</td>\n",
              "      <td>...</td>\n",
              "    </tr>\n",
              "    <tr>\n",
              "      <th>45206</th>\n",
              "      <td>51</td>\n",
              "      <td>10</td>\n",
              "      <td>4</td>\n",
              "      <td>3</td>\n",
              "      <td>4</td>\n",
              "      <td>17</td>\n",
              "      <td>nov</td>\n",
              "      <td>643</td>\n",
              "      <td>3</td>\n",
              "      <td>unknown</td>\n",
              "      <td>1</td>\n",
              "    </tr>\n",
              "    <tr>\n",
              "      <th>45207</th>\n",
              "      <td>70</td>\n",
              "      <td>7</td>\n",
              "      <td>1</td>\n",
              "      <td>1</td>\n",
              "      <td>4</td>\n",
              "      <td>17</td>\n",
              "      <td>nov</td>\n",
              "      <td>456</td>\n",
              "      <td>2</td>\n",
              "      <td>unknown</td>\n",
              "      <td>1</td>\n",
              "    </tr>\n",
              "    <tr>\n",
              "      <th>45208</th>\n",
              "      <td>70</td>\n",
              "      <td>7</td>\n",
              "      <td>4</td>\n",
              "      <td>4</td>\n",
              "      <td>4</td>\n",
              "      <td>17</td>\n",
              "      <td>nov</td>\n",
              "      <td>643</td>\n",
              "      <td>5</td>\n",
              "      <td>success</td>\n",
              "      <td>1</td>\n",
              "    </tr>\n",
              "    <tr>\n",
              "      <th>45209</th>\n",
              "      <td>57</td>\n",
              "      <td>9</td>\n",
              "      <td>4</td>\n",
              "      <td>4</td>\n",
              "      <td>1</td>\n",
              "      <td>17</td>\n",
              "      <td>nov</td>\n",
              "      <td>508</td>\n",
              "      <td>4</td>\n",
              "      <td>unknown</td>\n",
              "      <td>0</td>\n",
              "    </tr>\n",
              "    <tr>\n",
              "      <th>45210</th>\n",
              "      <td>37</td>\n",
              "      <td>2</td>\n",
              "      <td>4</td>\n",
              "      <td>4</td>\n",
              "      <td>4</td>\n",
              "      <td>17</td>\n",
              "      <td>nov</td>\n",
              "      <td>361</td>\n",
              "      <td>2</td>\n",
              "      <td>other</td>\n",
              "      <td>0</td>\n",
              "    </tr>\n",
              "  </tbody>\n",
              "</table>\n",
              "<p>44923 rows × 11 columns</p>\n",
              "</div>"
            ],
            "text/plain": [
              "       age  job  marital  education_qual  call_type  day  mon  dur  num_calls  \\\n",
              "0       58   12        4               3          2    5  may  261          1   \n",
              "1       44   10        3               4          2    5  may  151          1   \n",
              "2       33    2        4               4          2    5  may   76          1   \n",
              "3       47    9        4               3          2    5  may   92          1   \n",
              "5       35   12        4               3          2    5  may  139          1   \n",
              "...    ...  ...      ...             ...        ...  ...  ...  ...        ...   \n",
              "45206   51   10        4               3          4   17  nov  643          3   \n",
              "45207   70    7        1               1          4   17  nov  456          2   \n",
              "45208   70    7        4               4          4   17  nov  643          5   \n",
              "45209   57    9        4               4          1   17  nov  508          4   \n",
              "45210   37    2        4               4          4   17  nov  361          2   \n",
              "\n",
              "      prev_outcome  cus_converted  \n",
              "0          unknown              0  \n",
              "1          unknown              0  \n",
              "2          unknown              0  \n",
              "3          unknown              0  \n",
              "5          unknown              0  \n",
              "...            ...            ...  \n",
              "45206      unknown              1  \n",
              "45207      unknown              1  \n",
              "45208      success              1  \n",
              "45209      unknown              0  \n",
              "45210        other              0  \n",
              "\n",
              "[44923 rows x 11 columns]"
            ]
          },
          "execution_count": 249,
          "metadata": {},
          "output_type": "execute_result"
        }
      ],
      "source": [
        "encodeByPattern(\"call_type\",{\"cellular\":4,\"unknown\":2,\"telephone\":1})\n",
        "df"
      ]
    },
    {
      "attachments": {},
      "cell_type": "markdown",
      "metadata": {},
      "source": [
        "Day vs target"
      ]
    },
    {
      "cell_type": "code",
      "execution_count": 252,
      "metadata": {},
      "outputs": [
        {
          "data": {
            "image/png": "[encoded data removed]",
            "text/plain": [
              "<Figure size 2500x500 with 3 Axes>"
            ]
          },
          "metadata": {},
          "output_type": "display_data"
        }
      ],
      "source": [
        "featureVsCus_converted(\"day\",figSize=(25,5))"
      ]
    },
    {
      "attachments": {},
      "cell_type": "markdown",
      "metadata": {},
      "source": [
        "Inference\n",
        "- It is interesting to see 30th is most subscribed day in month, it important to not that 31st exists in alternative months.\n",
        "- \n",
        "\n"
      ]
    },
    {
      "cell_type": "code",
      "execution_count": null,
      "metadata": {},
      "outputs": [],
      "source": []
    }
  ],
  "metadata": {
    "colab": {
      "collapsed_sections": [
        "ZitLV9cEzwsy"
      ],
      "provenance": []
    },
    "kernelspec": {
      "display_name": "Python 3",
      "name": "python3"
    },
    "language_info": {
      "codemirror_mode": {
        "name": "ipython",
        "version": 3
      },
      "file_extension": ".py",
      "mimetype": "text/x-python",
      "name": "python",
      "nbconvert_exporter": "python",
      "pygments_lexer": "ipython3",
      "version": "3.10.6"
    }
  },
  "nbformat": 4,
  "nbformat_minor": 0
}
